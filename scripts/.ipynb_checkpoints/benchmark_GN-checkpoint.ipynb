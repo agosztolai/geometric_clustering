{
 "cells": [
  {
   "cell_type": "code",
   "execution_count": 43,
   "metadata": {},
   "outputs": [],
   "source": [
    "import numpy as np\n",
    "import os as os\n",
    "from geometric_clustering import Geometric_Clustering\n",
    "import networkx as nx\n",
    "import matplotlib.gridspec as gridspec\n",
    "import matplotlib.ticker as ticker\n",
    "import pandas as pd\n",
    "import pickle\n",
    "import pylab as plt"
   ]
  },
  {
   "cell_type": "code",
   "execution_count": 73,
   "metadata": {},
   "outputs": [],
   "source": [
    "NGraphs = 50               # number of realisations\n",
    "p_in = np.linspace(0.34,0.42,5) #<0.5 - edge inside clusters"
   ]
  },
  {
   "cell_type": "code",
   "execution_count": 74,
   "metadata": {},
   "outputs": [],
   "source": [
    "# initialise the code with parameters and graph \n",
    "gc = Geometric_Clustering()\n",
    "gc.cluster_tpe = 'modularity'"
   ]
  },
  {
   "cell_type": "code",
   "execution_count": 125,
   "metadata": {},
   "outputs": [],
   "source": [
    "n_t = 20\n",
    "MI = np.zeros([NGraphs,n_t])\n",
    "Stability = np.zeros([NGraphs,n_t])\n",
    "NComms = np.zeros([NGraphs,n_t])\n",
    "meanMI = np.zeros([n_t,len(p_in)])\n",
    "meanStability = np.zeros([n_t,len(p_in)])\n",
    "meanNComms = np.zeros([n_t,len(p_in)])\n",
    "stdMI = np.zeros([n_t,len(p_in)])\n",
    "stdStability = np.zeros([n_t,len(p_in)])\n",
    "stdNComms = np.zeros([n_t,len(p_in)])\n",
    "for i in range(len(p_in)):\n",
    "    for k in range(numGraphs):\n",
    "        filename = 'test'#'graph_'+str(k)+'_p_in_'+str(p_in[i])\n",
    "        gc.filename = filename\n",
    "        stability_results = pickle.load(open(filename + '_clustering.pkl','rb'))\n",
    "        MI[k] = np.array(stability_results[1]['MI'])\n",
    "        Stability[k] = np.array(stability_results[1]['stability'])\n",
    "        NComms[k] = np.array(stability_results[1]['number_of_communities'])\n",
    "        times = np.log10(stability_results[1]['Markov time'].values)\n",
    "    meanMI[:,i] = np.mean(MI,0)   \n",
    "    meanStability[:,i] = np.mean(Stability,0) \n",
    "    meanNComms[:,i] = np.mean(NComms,0)\n",
    "    stdMI[:,i] = np.std(MI,0)  \n",
    "    stdStability[:,i] = np.std(Stability,0)\n",
    "    stdNComms[:,i] = np.std(NComms,0)"
   ]
  },
  {
   "cell_type": "code",
   "execution_count": 130,
   "metadata": {},
   "outputs": [
    {
     "data": {
      "text/plain": [
       "[-0.5, 0.5, 0, 1.1]"
      ]
     },
     "execution_count": 130,
     "metadata": {},
     "output_type": "execute_result"
    },
    {
     "data": {
      "image/png": "[encoded data removed]",
      "text/plain": [
       "<Figure size 360x360 with 4 Axes>"
      ]
     },
     "metadata": {
      "needs_background": "light"
     },
     "output_type": "display_data"
    }
   ],
   "source": [
    "plt.figure(figsize=(5,5))\n",
    "\n",
    "gs = gridspec.GridSpec(2, 1, height_ratios = [ 1., 0.5])\n",
    "gs.update(hspace=0)\n",
    " \n",
    "ax0 = plt.subplot(gs[0, 0])\n",
    "ax0.yaxis.tick_left()\n",
    "ax0.yaxis.set_label_position('left')\n",
    "ax0.axis([times[0],times[-1],times[0],times[-1]])\n",
    "\n",
    "#plot the number of clusters\n",
    "ax1 = ax0.twinx()\n",
    "ax1.plot(times, meanNComms[:,0],c='C0',label='size',lw=2.)    \n",
    "ax1.fill_between(times, meanNComms[:,0]-stdNComms[:,0], meanNComms[:,0]+stdNComms[:,0])\n",
    "ax1.yaxis.tick_right()\n",
    "ax1.tick_params('y', colors='C0')\n",
    "ax1.yaxis.set_label_position('right')\n",
    "ax1.set_ylabel('Number of clusters', color='C0')\n",
    "    \n",
    "#make a subplot for stability and MI\n",
    "ax2 = plt.subplot(gs[1, 0])\n",
    "\n",
    "#first plot the stability\n",
    "ax2.plot(times, meanStability[:,0], label=r'$Q$',c='C2')\n",
    "ax2.fill_between(times, meanStability[:,0]-stdStability[:,0], meanStability[:,0]+stdStability[:,0])\n",
    "ax2.set_yscale('log') \n",
    "ax2.tick_params('y', colors='C2')\n",
    "ax2.set_ylabel('Modularity', color='C2')\n",
    "ax2.yaxis.set_label_position('left')\n",
    "ax2.set_xlabel(r'$log_{10}(t)$')\n",
    "\n",
    "#plot the MI\n",
    "ax3 = ax2.twinx()\n",
    "ax3.plot(times, meanMI[:,0],'-',lw=2.,c='C3',label='MI')\n",
    "ax3.fill_between(times, meanMI[:,0]-stdMI[:,0], meanMI[:,0]+stdMI[:,0])\n",
    "ax3.yaxis.tick_right()\n",
    "ax3.tick_params('y', colors='C3')\n",
    "ax3.set_ylabel(r'Mutual information', color='C3')\n",
    "ax3.axhline(1,ls='--',lw=1.,c='C3')\n",
    "ax3.axis([times[0], times[-1], 0,1.1])"
   ]
  },
  {
   "cell_type": "code",
   "execution_count": null,
   "metadata": {},
   "outputs": [],
   "source": []
  }
 ],
 "metadata": {
  "kernelspec": {
   "display_name": "Python 3",
   "language": "python",
   "name": "python3"
  },
  "language_info": {
   "codemirror_mode": {
    "name": "ipython",
    "version": 3
   },
   "file_extension": ".py",
   "mimetype": "text/x-python",
   "name": "python",
   "nbconvert_exporter": "python",
   "pygments_lexer": "ipython3",
   "version": "3.7.2"
  }
 },
 "nbformat": 4,
 "nbformat_minor": 2
}
