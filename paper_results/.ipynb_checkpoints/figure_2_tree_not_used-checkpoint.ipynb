{
 "cells": [
  {
   "cell_type": "code",
   "execution_count": 1,
   "metadata": {},
   "outputs": [],
   "source": [
    "%load_ext autoreload\n",
    "%autoreload 2\n",
    "import numpy as np\n",
    "import sys as sys\n",
    "import os as os\n",
    "import geocluster as gc\n",
    "from geocluster import plotting\n",
    "from graph_library import generate_barbell, generate_tree, generate_clique_of_cliques, assign_graph_metadata\n",
    "import networkx as nx\n",
    "import scipy as sc\n",
    "import pylab as plt\n",
    "import matplotlib.gridspec as gridspec\n",
    "from matplotlib.animation import FFMpegWriter\n",
    "from tqdm import tqdm"
   ]
  },
  {
   "cell_type": "markdown",
   "metadata": {},
   "source": [
    "# Vary height of tree"
   ]
  },
  {
   "cell_type": "code",
   "execution_count": null,
   "metadata": {},
   "outputs": [],
   "source": [
    "#Generate graph \n",
    "params_1 = [{'r': 2, 'h': i} for i in range(2,7)]\n",
    "\n",
    "kappas_1 = {}\n",
    "for i in range(len(params_1)):\n",
    "    graph,_ = generate_tree(params_1[i])\n",
    "        \n",
    "    # initialise the code with parameters and graph \n",
    "    graph.graph['name'] = 'tree'\n",
    "    pos = nx.spring_layout(graph, weight='weight')\n",
    "    graph = assign_graph_metadata(graph, pos=pos)\n",
    "\n",
    "    # initialise the code with parameters and graph\n",
    "    gc = GeoCluster(graph, T=np.logspace(-2., 3., 20), use_spectral_gap = False)\n",
    "                 \n",
    "    #Compute the OR curvatures are all the times\n",
    "    gc.compute_OR_curvatures(save=False)\n",
    "    kappas_1[i] = gc.Kappa\n",
    "    gc.pos = [pos[i] for i in range(len(pos))]\n",
    "\n",
    "    #Save results for later analysis\n",
    "    gc.plot_edge_curvature(filename = 'tree_1_' + str(i), log=False)\n",
    "    gc.plot_graph_snapshots(filename = 'tree_1_' + str(i), edge_width=1, node_size=10)"
   ]
  },
  {
   "cell_type": "markdown",
   "metadata": {},
   "source": [
    "# Vary branching factor of tree"
   ]
  },
  {
   "cell_type": "code",
   "execution_count": null,
   "metadata": {},
   "outputs": [],
   "source": [
    "#Generate graph \n",
    "params_2 = [{'r': i, 'h': 5} for i in range(2,7)]\n",
    "\n",
    "kappas_2 = {}\n",
    "for i in range(len(params_2)):\n",
    "    graph,_ = generate_tree(params_2[i])\n",
    "        \n",
    "    # initialise the code with parameters and graph \n",
    "    graph.graph['name'] = 'tree'\n",
    "    pos = nx.spring_layout(graph, weight='weight')\n",
    "    graph = assign_graph_metadata(graph, pos=pos)\n",
    "\n",
    "    # initialise the code with parameters and graph\n",
    "    gc = GeoCluster(graph, T=np.logspace(-2., 3., 20), use_spectral_gap = False)\n",
    "                 \n",
    "    #Compute the OR curvatures are all the times\n",
    "    gc.compute_OR_curvatures(save=False)\n",
    "    kappas_2[i] = gc.Kappa\n",
    "    gc.pos = [pos[i] for i in range(len(pos))]\n",
    "\n",
    "    #Save results for later analysis\n",
    "    gc.plot_edge_curvature(filename = 'tree_2_' + str(i), log=False)\n",
    "    gc.plot_graph_snapshots(filename = 'tree_2_' + str(i), edge_width=1, node_size=10)"
   ]
  }
 ],
 "metadata": {
  "kernelspec": {
   "display_name": "Python 3",
   "language": "python",
   "name": "python3"
  },
  "language_info": {
   "codemirror_mode": {
    "name": "ipython",
    "version": 3
   },
   "file_extension": ".py",
   "mimetype": "text/x-python",
   "name": "python",
   "nbconvert_exporter": "python",
   "pygments_lexer": "ipython3",
   "version": "3.7.6"
  }
 },
 "nbformat": 4,
 "nbformat_minor": 4
}
