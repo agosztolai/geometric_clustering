{
 "cells": [
  {
   "cell_type": "code",
   "execution_count": null,
   "metadata": {
    "scrolled": false
   },
   "outputs": [
    {
     "name": "stderr",
     "output_type": "stream",
     "text": [
      "\r",
      "  0%|          | 0/19 [00:00<?, ?it/s]"
     ]
    },
    {
     "name": "stdout",
     "output_type": "stream",
     "text": [
      "\n",
      "Graph: barbell\n",
      "\n",
      "Construct normalized Laplacian\n",
      "\n",
      "Compute geodesic distance matrix\n",
      "\n",
      "Compute curvature at each markov time\n"
     ]
    },
    {
     "name": "stderr",
     "output_type": "stream",
     "text": [
      "100%|██████████| 19/19 [00:04<00:00,  4.18it/s]\n",
      "  0%|          | 0/19 [00:00<?, ?it/s]"
     ]
    },
    {
     "name": "stdout",
     "output_type": "stream",
     "text": [
      "\n",
      "Graph: barbell\n",
      "\n",
      "Construct normalized Laplacian\n",
      "\n",
      "Compute geodesic distance matrix\n",
      "\n",
      "Compute curvature at each markov time\n"
     ]
    },
    {
     "name": "stderr",
     "output_type": "stream",
     "text": [
      "100%|██████████| 19/19 [00:05<00:00,  3.37it/s]\n",
      "  0%|          | 0/19 [00:00<?, ?it/s]"
     ]
    },
    {
     "name": "stdout",
     "output_type": "stream",
     "text": [
      "\n",
      "Graph: barbell\n",
      "\n",
      "Construct normalized Laplacian\n",
      "\n",
      "Compute geodesic distance matrix\n",
      "\n",
      "Compute curvature at each markov time\n"
     ]
    },
    {
     "name": "stderr",
     "output_type": "stream",
     "text": [
      "100%|██████████| 19/19 [00:06<00:00,  2.99it/s]\n",
      "  0%|          | 0/19 [00:00<?, ?it/s]"
     ]
    },
    {
     "name": "stdout",
     "output_type": "stream",
     "text": [
      "\n",
      "Graph: barbell\n",
      "\n",
      "Construct normalized Laplacian\n",
      "\n",
      "Compute geodesic distance matrix\n",
      "\n",
      "Compute curvature at each markov time\n"
     ]
    },
    {
     "name": "stderr",
     "output_type": "stream",
     "text": [
      " 89%|████████▉ | 17/19 [00:07<00:01,  1.63it/s]"
     ]
    }
   ],
   "source": [
    "import numpy as np\n",
    "import sys as sys\n",
    "import os as os\n",
    "from geocluster import GeoCluster\n",
    "from graph_library import generate_barbell, assign_graph_metadata\n",
    "import networkx as nx\n",
    "import scipy as sc\n",
    "import pylab as plt\n",
    "import matplotlib.gridspec as gridspec\n",
    "from matplotlib.animation import FFMpegWriter\n",
    "\n",
    "#Generate graph \n",
    "params = [{'m1': i, 'm2': 0} for i in range(3,100,10)]\n",
    "\n",
    "figs, kappas = {}, {}\n",
    "for i in range(len(params)):\n",
    "    graph,_ = generate_barbell(params[i])\n",
    "        \n",
    "    # initialise the code with parameters and graph \n",
    "    graph.graph['name'] = 'barbell'\n",
    "    pos = nx.spring_layout(graph, weight='weight')\n",
    "    graph = assign_graph_metadata(graph, pos=pos)\n",
    "\n",
    "    # initialise the code with parameters and graph\n",
    "    gc = GeoCluster(graph, T=np.logspace(-2., 3., 20), use_spectral_gap = False)\n",
    "                 \n",
    "    #Compute the OR curvatures are all the times\n",
    "    gc.compute_OR_curvatures(save=False)\n",
    "    kappas[i] = gc.Kappa\n",
    "    #gc.pos = [pos[i] for i in range(len(pos))]\n",
    "\n",
    "    #Save results for later analysis\n",
    "    figs[i] = gc.plot_edge_curvature(filename = 'barbell_' + str(i), log=False, save=False)"
   ]
  },
  {
   "cell_type": "code",
   "execution_count": null,
   "metadata": {},
   "outputs": [],
   "source": [
    "figs[0]"
   ]
  },
  {
   "cell_type": "code",
   "execution_count": null,
   "metadata": {},
   "outputs": [],
   "source": []
  }
 ],
 "metadata": {
  "kernelspec": {
   "display_name": "Python 3",
   "language": "python",
   "name": "python3"
  },
  "language_info": {
   "codemirror_mode": {
    "name": "ipython",
    "version": 3
   },
   "file_extension": ".py",
   "mimetype": "text/x-python",
   "name": "python",
   "nbconvert_exporter": "python",
   "pygments_lexer": "ipython3",
   "version": "3.7.6"
  }
 },
 "nbformat": 4,
 "nbformat_minor": 4
}
