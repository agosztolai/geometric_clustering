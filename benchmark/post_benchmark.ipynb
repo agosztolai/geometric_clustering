{
 "cells": [
  {
   "cell_type": "code",
   "execution_count": 2,
   "metadata": {},
   "outputs": [],
   "source": [
    "import numpy as np\n",
    "import os as os\n",
    "from geometric_clustering import Geometric_Clustering\n",
    "import networkx as nx\n",
    "import matplotlib.gridspec as gridspec\n",
    "import matplotlib.ticker as ticker\n",
    "import pandas as pd\n",
    "import pickle\n",
    "import pylab as plt\n",
    "from sklearn import metrics\n",
    "from tqdm.auto import tqdm"
   ]
  },
  {
   "cell_type": "markdown",
   "metadata": {},
   "source": [
    "# Parameters"
   ]
  },
  {
   "cell_type": "code",
   "execution_count": 4,
   "metadata": {},
   "outputs": [],
   "source": [
    "NGraphs = 100    # number of realisations\n",
    "folder = '/data/gosztolai/geocluster/'\n",
    "\n",
    "method = ['sm', 'm', 'linearized'] #signed modularity, modularity\n",
    "\n",
    "#Girvan-Newman\n",
    "p_in = np.round(np.concatenate((np.linspace(0.15,0.34,20),np.linspace(0.36,0.42,4))),2) #edge prob. inside clusters\n",
    "\n",
    "#Fan\n",
    "w_in = np.round(np.concatenate((np.linspace(1.0,1.15,7),np.linspace(1.2,1.7,6))),3) #edge weight inside clusters\n",
    "\n",
    "#LFR\n",
    "mu = np.round(np.linspace(0.1,0.9,5),1) #mixing"
   ]
  },
  {
   "cell_type": "markdown",
   "metadata": {},
   "source": [
    "# Functions"
   ]
  },
  {
   "cell_type": "code",
   "execution_count": 5,
   "metadata": {},
   "outputs": [],
   "source": [
    "def fracCIN(C,D):\n",
    "    m = int(max(C)+1)\n",
    "    n = int(max(D)+1)\n",
    "    Mi = np.zeros(n)\n",
    "    k = np.zeros(m)\n",
    "    p = np.zeros(m)\n",
    "    for i in range(m):\n",
    "        for j in range(n):\n",
    "            Mi[j] = len(np.intersect1d(np.where(C==i), np.where(D==j), assume_unique=True))\n",
    "    \n",
    "        k[i] = np.argmax(Mi) \n",
    "        p[i] = np.max(Mi)\n",
    "        \n",
    "    for j in range(n):\n",
    "        if np.sum(k == j) > 1:\n",
    "            p[k == j] = 0\n",
    "\n",
    "    return np.sum(p)/len(C)\n",
    "\n",
    "def loopOverCases(cases, parname, method):\n",
    "    N = len(cases)\n",
    "    m = len(method)\n",
    "    meannMI = np.zeros((m,N)); stdnMI = np.zeros((m,N)) \n",
    "    meanfracCC = np.zeros((m,N)); stdfracCC = np.zeros((m,N))  \n",
    "    for i in tqdm(range(N)):\n",
    "        for j, meth in enumerate(method):\n",
    "            nMI = np.zeros(NGraphs); fracCC = np.zeros(NGraphs)\n",
    "            stop = 0; k = 0\n",
    "            while stop == 0 and k < NGraphs:\n",
    "                \n",
    "                filename = 'graph_' + str(k) + '_' + parname + '_' + str(cases[i]) + '_cluster_' + meth + '.pkl'\n",
    "                \n",
    "                if os.path.exists(filename):\n",
    "                    stability_results = pickle.load(open(filename,'rb'))\n",
    "                    labels = np.array(stability_results[1]['community_id'].values) \n",
    "                    labels_gt = np.array(stability_results[2])\n",
    "                    \n",
    "                    n_t = len(labels)\n",
    "                    nMItemp = np.zeros(n_t); fracCCtemp = np.zeros(n_t)\n",
    "                    for l in range(n_t):\n",
    "                    \n",
    "                        nMItemp[l] = metrics.normalized_mutual_info_score(labels_gt,labels[l],average_method='arithmetic')\n",
    "                        fracCCtemp[l] = fracCIN(labels_gt, labels[l])\n",
    "\n",
    "                    nMI[k] = np.max(nMItemp)\n",
    "                    fracCC[k] = np.max(fracCCtemp)\n",
    "                    k += 1\n",
    "                else:\n",
    "                    stop = 1\n",
    "\n",
    "            meannMI[j,i] = np.mean(nMI[nMI!=0])\n",
    "            stdnMI[j,i] = np.std(nMI[nMI!=0]) \n",
    "            meanfracCC[j,i] = np.mean(fracCC[fracCC!=0])\n",
    "            stdfracCC[j,i] = np.std(fracCC[fracCC!=0]) \n",
    "            \n",
    "    return meannMI, stdnMI, meanfracCC, stdfracCC\n",
    "\n",
    "def appendthings(cases, parname):\n",
    "    import pandas as pd\n",
    "    N = len(cases)\n",
    "    for i in tqdm(range(N)):\n",
    "        for j, meth in enumerate(method):\n",
    "            nMI = np.zeros(NGraphs); fracCC = np.zeros(NGraphs)\n",
    "            stop = 0; k = 0\n",
    "            while stop == 0 and k < NGraphs:\n",
    "                \n",
    "                filename = 'graph_' + str(k) + '_' + parname + '_' + str(cases[i]) + '_cluster_' + meth + '.pkl'\n",
    "                \n",
    "                if os.path.exists(filename):\n",
    "                \n",
    "                    stability_results = pickle.load(open(filename,'rb'))\n",
    "                    stability_results[2] = stability_results[2]['community_ground_truth'].values\n",
    "                    #labels_gt = np.concatenate((np.zeros(32),np.ones(32),2*np.ones(32),3*np.ones(32)))\n",
    "                    #labels_gt = []\n",
    "                    #for l in stability_results[0].nodes:\n",
    "                    #    print(l)\n",
    "                    #    labels_gt = np.append(labels_gt,stability_results[0].node[l]['block'])\n",
    "                    #df = pd.DataFrame({'community_ground_truth' : labels_gt})\n",
    "                    #stability_results.append(df)\n",
    "                    pickle.dump(stability_results,open(filename,'wb'))\n",
    "                    k += 1\n",
    "                else:\n",
    "                    stop = 1"
   ]
  },
  {
   "cell_type": "markdown",
   "metadata": {},
   "source": [
    "# Evaluate benchmarks"
   ]
  },
  {
   "cell_type": "code",
   "execution_count": null,
   "metadata": {},
   "outputs": [],
   "source": [
    "#Girvan-Newman\n",
    "os.chdir(folder + 'Girvan_Newman')\n",
    "\n",
    "meannMI_GN, stdnMI_GN, meanfracCC_GN, stdfracCC_GN = loopOverCases(p_in,'p_in',method)\n",
    "#appendthings(p_in,'p_in')"
   ]
  },
  {
   "cell_type": "code",
   "execution_count": 6,
   "metadata": {},
   "outputs": [
    {
     "data": {
      "application/vnd.jupyter.widget-view+json": {
       "model_id": "913c175725a9400986c91c5b3ab4b52d",
       "version_major": 2,
       "version_minor": 0
      },
      "text/plain": [
       "HBox(children=(IntProgress(value=0, max=13), HTML(value='')))"
      ]
     },
     "metadata": {},
     "output_type": "display_data"
    },
    {
     "name": "stdout",
     "output_type": "stream",
     "text": [
      "\n"
     ]
    },
    {
     "name": "stderr",
     "output_type": "stream",
     "text": [
      "/home/gosztolai/anaconda3/lib/python3.7/site-packages/numpy/core/fromnumeric.py:3118: RuntimeWarning: Mean of empty slice.\n",
      "  out=out, **kwargs)\n",
      "/home/gosztolai/anaconda3/lib/python3.7/site-packages/numpy/core/_methods.py:85: RuntimeWarning: invalid value encountered in double_scalars\n",
      "  ret = ret.dtype.type(ret / rcount)\n",
      "/home/gosztolai/anaconda3/lib/python3.7/site-packages/numpy/core/_methods.py:140: RuntimeWarning: Degrees of freedom <= 0 for slice\n",
      "  keepdims=keepdims)\n",
      "/home/gosztolai/anaconda3/lib/python3.7/site-packages/numpy/core/_methods.py:110: RuntimeWarning: invalid value encountered in true_divide\n",
      "  arrmean, rcount, out=arrmean, casting='unsafe', subok=False)\n",
      "/home/gosztolai/anaconda3/lib/python3.7/site-packages/numpy/core/_methods.py:132: RuntimeWarning: invalid value encountered in double_scalars\n",
      "  ret = ret.dtype.type(ret / rcount)\n"
     ]
    }
   ],
   "source": [
    "#Fan\n",
    "os.chdir(folder + 'Fan')\n",
    "\n",
    "meannMI_Fan, stdnMI_Fan, meanfracCC_Fan, stdfracCC_Fan = loopOverCases(w_in,'w_in',method)"
   ]
  },
  {
   "cell_type": "code",
   "execution_count": 10,
   "metadata": {},
   "outputs": [
    {
     "data": {
      "text/plain": [
       "array([-0.00577114, -0.00637482, -0.00701714, -0.00769344, -0.00839663,\n",
       "       -0.00911676, -0.00984053, -0.01055089, -0.00750116, -0.00820598,\n",
       "        0.06148376,  0.12145615,  0.21384396,  0.30640997,  0.37075217,\n",
       "        0.46384822,  0.53932947,  0.60766166,  0.67124835,  0.73215622])"
      ]
     },
     "execution_count": 10,
     "metadata": {},
     "output_type": "execute_result"
    }
   ],
   "source": [
    "#filename = 'graph_' + str(k) + '_' + parname + '_' + str(cases[i]) + '_cluster_' + meth + '.pkl'\n",
    "#stability_results = pickle.load(open(filename,'rb'))\n",
    "fname = 'graph_0_w_in_1.0.pkl'\n",
    "data = pickle.load(open(fname,'rb'))\n",
    "data[0]"
   ]
  },
  {
   "cell_type": "code",
   "execution_count": null,
   "metadata": {},
   "outputs": [],
   "source": [
    "#LFR\n",
    "os.chdir(folder + 'LFR')      \n",
    "\n",
    "meannMI_LFR, stdnMI_LFR, meanfracCC_LFR, stdfracCC_LFR = loopOverCases(mu,'mu',method)"
   ]
  },
  {
   "cell_type": "markdown",
   "metadata": {},
   "source": [
    "# Plot"
   ]
  },
  {
   "cell_type": "code",
   "execution_count": null,
   "metadata": {},
   "outputs": [],
   "source": [
    "os.chdir(folder + 'Girvan_Newman')\n",
    "filename = 'graph_' + str(50) + '_p_in_' + str(0.36) + '_cluster_linearized.pkl'\n",
    "labels = np.array(stability_results[1]['community_id'].values)\n",
    "print(labels[5])\n",
    "print(labels[1])"
   ]
  },
  {
   "cell_type": "code",
   "execution_count": null,
   "metadata": {
    "scrolled": true
   },
   "outputs": [],
   "source": [
    "plt.figure(figsize=(10,12))\n",
    "\n",
    "#Girvan-Newman\n",
    "z_out = (0.5-p_in)/3*96 #node degree between clusters\n",
    "ax0 = plt.subplot(321)\n",
    "plt.errorbar(z_out/16,meannMI_GN[0,:],stdnMI_GN[0,:],marker='o',c='C0')\n",
    "ax0.set_xlabel(r'Proportion of between-cluster edges, $z_{out}\\,/\\,k$')\n",
    "ax0.set_ylabel(\"Normalised mutual information\", color='C0')\n",
    "ax0.set_xlim([0.2, 0.8])\n",
    "ax0.set_ylim([0, 1.1])\n",
    "ax0.tick_params('y', colors='C0')\n",
    "ax01 = ax0.twinx()\n",
    "plt.errorbar(z_out/16,meanfracCC_GN[0,:],stdfracCC_GN[0,:],marker='o',c='C2')\n",
    "ax01.tick_params('y', colors='C2')\n",
    "ax01.set_ylabel('Fraction of correctly identified nodes', color='C2')\n",
    "ax01.yaxis.set_label_position('right')\n",
    "ax01.set_ylim([0, 1.1])\n",
    "\n",
    "ax2 = plt.subplot(322)\n",
    "labels = ['SA', 'Potts', 'ORm', 'MS', 'MOD', 'GN']\n",
    "zout6 = [0.99, 0.97, meanfracCC_GN[0,16], meanfracCC_GN[1,16], meanfracCC_GN[2,16],  0.9]\n",
    "zout7 = [0.97, 0.91, meanfracCC_GN[0,13], meanfracCC_GN[1,13], meanfracCC_GN[2,13], 0.67]\n",
    "zout8 = [0.87, 0.7,  meanfracCC_GN[0,10], meanfracCC_GN[1,10], meanfracCC_GN[2,10], 0.31]\n",
    "\n",
    "x = np.arange(len(labels))  # the label locations\n",
    "width = 0.2  # the width of the bars\n",
    "\n",
    "ax2.bar(x - width/3*2, zout6, width, label=r'$z_{out}\\,/\\,k = 0.38$')\n",
    "ax2.bar(x , zout7, width, label=r'$z_{out}\\,/\\,k = 0.44$')\n",
    "ax2.bar(x + width/3*2, zout8, width, label=r'$z_{out}\\,/\\,k = 0.5$')\n",
    "ax2.set_ylabel('Fraction of correctly identified nodes')\n",
    "ax2.set_xticks(x)\n",
    "ax2.set_xticklabels(labels)\n",
    "ax2.legend()\n",
    "\n",
    "#Fan\n",
    "ax1 = plt.subplot(323)\n",
    "plt.errorbar(2-w_in,meannMI_Fan[0,:],stdnMI_Fan[0,:],marker='o',c='C0')\n",
    "ax1.set_xlabel(r'Weight of between-cluster edges, $w_{out}$')\n",
    "ax1.set_ylabel(\"Normalised mutual information\", color='C0')\n",
    "ax1.set_xlim([0.5, 1])\n",
    "ax1.set_ylim([0, 1.1])\n",
    "ax1.tick_params('y', colors='C0')\n",
    "ax11 = ax1.twinx()\n",
    "plt.errorbar(2-w_in,meanfracCC_Fan[0,:],stdfracCC_Fan[0,:],marker='o',c='C2')\n",
    "ax11.tick_params('y', colors='C2')\n",
    "ax11.set_ylabel('Fraction of correctly identified nodes', color='C2')\n",
    "ax11.yaxis.set_label_position('right')\n",
    "ax11.set_ylim([0, 1.1])\n",
    "\n",
    "ax3 = plt.subplot(324)\n",
    "labels = ['Potts', 'ORm', 'MOD', 'WEO', 'GN']\n",
    "win6 = [1, meanfracCC_Fan[0,6], meanfracCC_Fan[1,6], 0.95, 0.3]\n",
    "win925 = [0.9, meanfracCC_Fan[0,4], meanfracCC_Fan[1,4], 0.7, 0.05]\n",
    "win95 = [0.8, meanfracCC_Fan[0,3], meanfracCC_Fan[1,3], 0.6, 0.05]\n",
    "\n",
    "x = np.arange(len(labels))\n",
    "ax3.bar(x - width/3*2, win6, width, label=r'$w_{in} = 0.6$')\n",
    "ax3.bar(x , win925, width, label=r'$w_{in} = 0.95$')\n",
    "ax3.bar(x + width/3*2, win95, width, label=r'$w_{in} = 0.975$')\n",
    "ax3.set_ylabel('Fraction of correctly identified nodes')\n",
    "ax3.set_xticks(x)\n",
    "ax3.set_xticklabels(labels)\n",
    "ax3.legend()\n",
    "\n",
    "#LFR\n",
    "ax4 = plt.subplot(325)\n",
    "plt.errorbar(mut,meannMI_LFR[0,:],stdnMI_LFR[0,:],marker='o',c='C0')\n",
    "ax4.set_xlabel(r'Mixing parameter, $\\mu$')\n",
    "ax4.set_ylabel(\"Normalised mutual information\", color='C0')\n",
    "ax4.set_xlim([0, 1])\n",
    "ax4.set_ylim([0, 1.1])\n",
    "ax4.tick_params('y', colors='C0')\n",
    "ax41 = ax4.twinx()\n",
    "plt.errorbar(mut,meanfracCC_LFR[0,:],stdfracCC_LFR[0,:],marker='o',c='C2')\n",
    "ax41.tick_params('y', colors='C2')\n",
    "ax41.set_ylabel('Fraction of correctly identified nodes', color='C2')\n",
    "ax41.yaxis.set_label_position('right')\n",
    "ax41.set_ylim([0, 1.1])\n",
    "\n",
    "plt.subplots_adjust(left=None, bottom=None, right=None, top=None, wspace=0.4, hspace=0.25)"
   ]
  },
  {
   "cell_type": "markdown",
   "metadata": {},
   "source": [
    "MI = np.zeros([NGraphs,n_t])\n",
    "Stability = np.zeros([NGraphs,n_t])\n",
    "NComms = np.zeros([NGraphs,n_t])\n",
    "meanMI = np.zeros([n_t,len(p_in)])\n",
    "meanStability = np.zeros([n_t,len(p_in)])\n",
    "meanNComms = np.zeros([n_t,len(p_in)])\n",
    "stdMI = np.zeros([n_t,len(p_in)])\n",
    "stdStability = np.zeros([n_t,len(p_in)])\n",
    "stdNComms = np.zeros([n_t,len(p_in)])\n",
    "meannMI = np.zeros(len(p_in))     \n",
    "stdnMI = np.zeros(len(p_in)) \n",
    "labels_gt = np.concatenate((np.zeros(32),np.ones(32),2*np.ones(32),3*np.ones(32)))\n",
    "for i in range(len(p_in)):\n",
    "    nMI = np.zeros(NGraphs)\n",
    "    \n",
    "    for k in range(NGraphs):\n",
    "        gc.filename = 'graph_' + str(k) + '_p_in_' + str(p_in[i]) + '_cluster.pkl'\n",
    "        stability_results = pickle.load(open(gc.filename,'rb'))\n",
    "        MI[k] = np.array(stability_results[1]['MI'].values)\n",
    "        Stability[k] = np.array(stability_results[1]['stability'].values)\n",
    "        NComms[k] = np.array(stability_results[1]['number_of_communities'].values)\n",
    "        #print(stability_results[1]['number_of_communities'].values)\n",
    "        times = np.log10(stability_results[1]['Markov time'].values)#variation of optimal markov time with pin\n",
    "        labels = np.array(stability_results[1]['community_id'].values)\n",
    "        nMItemp = np.zeros(n_t)\n",
    "        for l in range(n_t):\n",
    "            nMItemp[l] = metrics.normalized_mutual_info_score(labels_gt,labels[l],average_method='arithmetic') \n",
    "        nMI[k] = np.max(nMItemp)\n",
    "        \n",
    "    meanMI[:,i] = np.mean(MI,0)   \n",
    "    meanStability[:,i] = np.mean(Stability,0) \n",
    "    meanNComms[:,i] = np.mean(NComms,0)\n",
    "    stdMI[:,i] = np.std(MI,0)  \n",
    "    stdStability[:,i] = np.std(Stability,0)\n",
    "    stdNComms[:,i] = np.std(NComms,0)\n",
    "    \n",
    "    meannMI[i] = np.mean(nMI)\n",
    "    stdnMI[i] = np.std(nMI)"
   ]
  },
  {
   "cell_type": "code",
   "execution_count": null,
   "metadata": {},
   "outputs": [],
   "source": [
    "plt.figure(figsize=(5,5))\n",
    "\n",
    "gs = gridspec.GridSpec(2, 1, height_ratios = [1., 0.5])\n",
    "gs.update(hspace=0)\n",
    " \n",
    "labels = []    \n",
    "ax0 = plt.subplot(gs[0, 0])\n",
    "for i in range(len(p_in)):\n",
    "    ax0.plot(times, meanNComms[:,i]) \n",
    "    labels.append(str(round(z_out[i],1)))\n",
    "ax0.yaxis.tick_left()\n",
    "ax0.yaxis.set_label_position('left')\n",
    "ax0.axis([times[0],times[-1],0,25])\n",
    "ax0.set_ylabel('Number of clusters')\n",
    "ax0.legend(labels,ncol=2,title=r'$z_{out}$')\n",
    "\n",
    "#plot the number of clusters\n",
    "#ax1 = ax0.twinx()\n",
    "#ax1.plot(times, meanNComms,label='size',lw=2.)  \n",
    "#for i in range(len(p_in)):\n",
    "#    ax1.plot(times, meanNComms[:,i]-stdNComms[:,i], meanNComms[:,i]+stdNComms[:,i])\n",
    "#ax1.yaxis.tick_right()\n",
    "#ax1.tick_params('y', colors='C0')\n",
    "#ax1.yaxis.set_label_position('right')\n",
    "\n",
    "    \n",
    "ax2 = plt.subplot(gs[1, 0])\n",
    "\n",
    "#first plot the stability\n",
    "#ax2.plot(times, meanStability[:,0], label=r'$Q$',c='C2')\n",
    "#ax2.fill_between(times, meanStability[:,0]-stdStability[:,0], meanStability[:,0]+stdStability[:,0])\n",
    "#ax2.set_yscale('log') \n",
    "#ax2.tick_params('y', colors='C2')\n",
    "#ax2.set_ylabel('Modularity', color='C2')\n",
    "#ax2.yaxis.set_label_position('left')\n",
    "#ax2.set_xlabel(r'$log_{10}(t)$')\n",
    "\n",
    "#plot the MI\n",
    "#ax3 = ax2.twinx()\n",
    "#ax3.plot(times, meanMI[:,0],'-',lw=2.,c='C3',label='MI')\n",
    "for i in range(len(p_in)):\n",
    "    ax2.plot(times, meanMI[:,0],'-',lw=2.,c='C3',label='MI')\n",
    "#    ax3.fill_between(times, meanMI[:,i]-stdMI[:,i], meanMI[:,i]+stdMI[:,i])\n",
    "#ax3.yaxis.tick_right()\n",
    "#ax3.tick_params('y', colors='C3')\n",
    "#ax3.set_ylabel(r'Mutual information', color='C3')\n",
    "#ax3.axhline(1,ls='--',lw=1.,c='C3')\n",
    "#ax3.axis([times[0], times[-1], 0,1.1])"
   ]
  },
  {
   "cell_type": "code",
   "execution_count": null,
   "metadata": {},
   "outputs": [],
   "source": []
  }
 ],
 "metadata": {
  "kernelspec": {
   "display_name": "Python 3",
   "language": "python",
   "name": "python3"
  },
  "language_info": {
   "codemirror_mode": {
    "name": "ipython",
    "version": 3
   },
   "file_extension": ".py",
   "mimetype": "text/x-python",
   "name": "python",
   "nbconvert_exporter": "python",
   "pygments_lexer": "ipython3",
   "version": "3.7.3"
  }
 },
 "nbformat": 4,
 "nbformat_minor": 2
}
