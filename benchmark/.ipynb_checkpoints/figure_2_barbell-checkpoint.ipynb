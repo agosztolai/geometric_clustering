{
 "cells": [
  {
   "cell_type": "code",
   "execution_count": 1,
   "metadata": {
    "scrolled": false
   },
   "outputs": [],
   "source": [
    "import numpy as np\n",
    "import sys as sys\n",
    "import os as os\n",
    "from geocluster import GeoCluster\n",
    "from graph_library import generate_barbell, assign_graph_metadata\n",
    "import networkx as nx\n",
    "import scipy as sc\n",
    "import pylab as plt\n",
    "import matplotlib.gridspec as gridspec\n",
    "from matplotlib.animation import FFMpegWriter"
   ]
  },
  {
   "cell_type": "markdown",
   "metadata": {},
   "source": [
    "# Vary size of barbells"
   ]
  },
  {
   "cell_type": "code",
   "execution_count": 2,
   "metadata": {},
   "outputs": [
    {
     "name": "stderr",
     "output_type": "stream",
     "text": [
      "\r",
      "  0%|          | 0/19 [00:00<?, ?it/s]"
     ]
    },
    {
     "name": "stdout",
     "output_type": "stream",
     "text": [
      "\n",
      "Graph: barbell\n",
      "\n",
      "Compute curvature at each markov time\n"
     ]
    },
    {
     "name": "stderr",
     "output_type": "stream",
     "text": [
      " 53%|█████▎    | 10/19 [00:02<00:02,  3.94it/s]"
     ]
    },
    {
     "name": "stdout",
     "output_type": "stream",
     "text": [
      "All edges have positive curvatures, so stopping the computations\n"
     ]
    },
    {
     "name": "stderr",
     "output_type": "stream",
     "text": [
      "\n",
      "  5%|▌         | 1/19 [00:00<00:02,  6.66it/s]"
     ]
    },
    {
     "name": "stdout",
     "output_type": "stream",
     "text": [
      "plot images\n"
     ]
    },
    {
     "name": "stderr",
     "output_type": "stream",
     "text": [
      "100%|██████████| 19/19 [00:02<00:00,  6.55it/s]\n",
      "  0%|          | 0/19 [00:00<?, ?it/s]"
     ]
    },
    {
     "name": "stdout",
     "output_type": "stream",
     "text": [
      "\n",
      "Graph: barbell\n",
      "\n",
      "Compute curvature at each markov time\n"
     ]
    },
    {
     "name": "stderr",
     "output_type": "stream",
     "text": [
      " 84%|████████▍ | 16/19 [00:04<00:00,  3.56it/s]"
     ]
    },
    {
     "name": "stdout",
     "output_type": "stream",
     "text": [
      "All edges have positive curvatures, so stopping the computations\n"
     ]
    },
    {
     "name": "stderr",
     "output_type": "stream",
     "text": [
      "\n",
      "  0%|          | 0/19 [00:00<?, ?it/s]"
     ]
    },
    {
     "name": "stdout",
     "output_type": "stream",
     "text": [
      "plot images\n"
     ]
    },
    {
     "name": "stderr",
     "output_type": "stream",
     "text": [
      "100%|██████████| 19/19 [00:03<00:00,  4.82it/s]\n",
      "  0%|          | 0/19 [00:00<?, ?it/s]"
     ]
    },
    {
     "name": "stdout",
     "output_type": "stream",
     "text": [
      "\n",
      "Graph: barbell\n",
      "\n",
      "Compute curvature at each markov time\n"
     ]
    },
    {
     "name": "stderr",
     "output_type": "stream",
     "text": [
      " 95%|█████████▍| 18/19 [00:06<00:00,  2.83it/s]"
     ]
    },
    {
     "name": "stdout",
     "output_type": "stream",
     "text": [
      "All edges have positive curvatures, so stopping the computations\n"
     ]
    },
    {
     "name": "stderr",
     "output_type": "stream",
     "text": [
      "\n",
      "  0%|          | 0/19 [00:00<?, ?it/s]"
     ]
    },
    {
     "name": "stdout",
     "output_type": "stream",
     "text": [
      "plot images\n"
     ]
    },
    {
     "name": "stderr",
     "output_type": "stream",
     "text": [
      "100%|██████████| 19/19 [00:06<00:00,  2.95it/s]\n",
      "  0%|          | 0/19 [00:00<?, ?it/s]"
     ]
    },
    {
     "name": "stdout",
     "output_type": "stream",
     "text": [
      "\n",
      "Graph: barbell\n",
      "\n",
      "Compute curvature at each markov time\n"
     ]
    },
    {
     "name": "stderr",
     "output_type": "stream",
     "text": [
      "100%|██████████| 19/19 [00:10<00:00,  1.81it/s]\n",
      "  0%|          | 0/19 [00:00<?, ?it/s]"
     ]
    },
    {
     "name": "stdout",
     "output_type": "stream",
     "text": [
      "plot images\n"
     ]
    },
    {
     "name": "stderr",
     "output_type": "stream",
     "text": [
      "100%|██████████| 19/19 [00:09<00:00,  1.93it/s]\n",
      "  0%|          | 0/19 [00:00<?, ?it/s]"
     ]
    },
    {
     "name": "stdout",
     "output_type": "stream",
     "text": [
      "\n",
      "Graph: barbell\n",
      "\n",
      "Compute curvature at each markov time\n"
     ]
    },
    {
     "name": "stderr",
     "output_type": "stream",
     "text": [
      "100%|██████████| 19/19 [00:16<00:00,  1.15it/s]\n",
      "  0%|          | 0/19 [00:00<?, ?it/s]"
     ]
    },
    {
     "name": "stdout",
     "output_type": "stream",
     "text": [
      "plot images\n"
     ]
    },
    {
     "name": "stderr",
     "output_type": "stream",
     "text": [
      "100%|██████████| 19/19 [00:14<00:00,  1.31it/s]\n",
      "  0%|          | 0/19 [00:00<?, ?it/s]"
     ]
    },
    {
     "name": "stdout",
     "output_type": "stream",
     "text": [
      "\n",
      "Graph: barbell\n",
      "\n",
      "Compute curvature at each markov time\n"
     ]
    },
    {
     "name": "stderr",
     "output_type": "stream",
     "text": [
      "100%|██████████| 19/19 [00:30<00:00,  1.58s/it]\n",
      "  0%|          | 0/19 [00:00<?, ?it/s]"
     ]
    },
    {
     "name": "stdout",
     "output_type": "stream",
     "text": [
      "plot images\n"
     ]
    },
    {
     "name": "stderr",
     "output_type": "stream",
     "text": [
      "100%|██████████| 19/19 [00:20<00:00,  1.08s/it]\n"
     ]
    },
    {
     "data": {
      "image/png": "[encoded data removed]",
      "text/plain": [
       "<Figure size 432x288 with 4 Axes>"
      ]
     },
     "metadata": {
      "needs_background": "light"
     },
     "output_type": "display_data"
    },
    {
     "data": {
      "image/png": "[encoded data removed]",
      "text/plain": [
       "<Figure size 432x288 with 4 Axes>"
      ]
     },
     "metadata": {
      "needs_background": "light"
     },
     "output_type": "display_data"
    },
    {
     "data": {
      "image/png": "[encoded data removed]",
      "text/plain": [
       "<Figure size 432x288 with 4 Axes>"
      ]
     },
     "metadata": {
      "needs_background": "light"
     },
     "output_type": "display_data"
    },
    {
     "data": {
      "image/png": "[encoded data removed]",
      "text/plain": [
       "<Figure size 432x288 with 4 Axes>"
      ]
     },
     "metadata": {
      "needs_background": "light"
     },
     "output_type": "display_data"
    },
    {
     "data": {
      "image/png": "[encoded data removed]",
      "text/plain": [
       "<Figure size 432x288 with 4 Axes>"
      ]
     },
     "metadata": {
      "needs_background": "light"
     },
     "output_type": "display_data"
    },
    {
     "data": {
      "image/png": "[encoded data removed]",
      "text/plain": [
       "<Figure size 432x288 with 4 Axes>"
      ]
     },
     "metadata": {
      "needs_background": "light"
     },
     "output_type": "display_data"
    }
   ],
   "source": [
    "#Generate graph \n",
    "params_1 = [{'m1': i, 'm2': 0} for i in range(3,60,10)]\n",
    "\n",
    "kappas_1 = {}\n",
    "for i in range(len(params_1)):\n",
    "    graph,_ = generate_barbell(params_1[i])\n",
    "        \n",
    "    # initialise the code with parameters and graph \n",
    "    graph.graph['name'] = 'barbell'\n",
    "    pos = nx.spring_layout(graph, weight='weight')\n",
    "    graph = assign_graph_metadata(graph, pos=pos)\n",
    "\n",
    "    # initialise the code with parameters and graph\n",
    "    gc = GeoCluster(graph, T=np.logspace(-2., 3., 20), use_spectral_gap = False)\n",
    "                 \n",
    "    #Compute the OR curvatures are all the times\n",
    "    gc.compute_OR_curvatures(save=False)\n",
    "    kappas_1[i] = gc.Kappa\n",
    "    #gc.pos = [pos[i] for i in range(len(pos))]\n",
    "\n",
    "    #Plot\n",
    "    gc.plot_edge_curvature(filename = 'barbell_' + str(i), log=False)\n",
    "    gc.plot_graph_snapshots(filename = 'barbell_' + str(i), edge_width=1)"
   ]
  },
  {
   "cell_type": "code",
   "execution_count": 30,
   "metadata": {},
   "outputs": [
    {
     "data": {
      "image/png": "[encoded data removed]",
      "text/plain": [
       "<Figure size 432x288 with 1 Axes>"
      ]
     },
     "metadata": {
      "needs_background": "light"
     },
     "output_type": "display_data"
    }
   ],
   "source": [
    "min_kappa_1 = [kappas_1[i].min() for i in range(len(kappas_1))]\n",
    "n = [2*params_1[i]['m1'] for i in range(len(kappas_1))]\n",
    "plt.plot(n, min_kappa_1)\n",
    "plt.xlabel('Number of nodes')\n",
    "plt.ylabel(r'$\\min \\,\\kappa_{ij}$')\n",
    "plt.savefig('vary_m1.svg')\n",
    "plt.show()"
   ]
  },
  {
   "cell_type": "markdown",
   "metadata": {},
   "source": [
    "# Vary number of edges between barbells"
   ]
  },
  {
   "cell_type": "code",
   "execution_count": 14,
   "metadata": {},
   "outputs": [
    {
     "name": "stderr",
     "output_type": "stream",
     "text": [
      "\n",
      "\n",
      "  0%|          | 0/19 [00:00<?, ?it/s]\u001b[A\u001b[A"
     ]
    },
    {
     "name": "stdout",
     "output_type": "stream",
     "text": [
      "\n",
      "Graph: barbell\n",
      "\n",
      "Compute curvature at each markov time\n"
     ]
    },
    {
     "name": "stderr",
     "output_type": "stream",
     "text": [
      "\n",
      "\n",
      "  5%|▌         | 1/19 [00:04<01:15,  4.20s/it]\u001b[A\u001b[A\n",
      "\n",
      " 11%|█         | 2/19 [00:09<01:18,  4.63s/it]\u001b[A\u001b[A\n",
      "\n",
      " 16%|█▌        | 3/19 [00:16<01:23,  5.19s/it]\u001b[A\u001b[A\n",
      "\n",
      " 21%|██        | 4/19 [00:20<01:14,  4.95s/it]\u001b[A\u001b[A\n",
      "\n",
      " 26%|██▋       | 5/19 [00:26<01:14,  5.34s/it]\u001b[A\u001b[A\n",
      "\n",
      " 32%|███▏      | 6/19 [00:33<01:12,  5.58s/it]\u001b[A\u001b[A\n",
      "\n",
      " 37%|███▋      | 7/19 [00:39<01:08,  5.74s/it]\u001b[A\u001b[A\n",
      "\n",
      " 42%|████▏     | 8/19 [00:45<01:04,  5.86s/it]\u001b[A\u001b[A\n",
      "\n",
      " 47%|████▋     | 9/19 [00:49<00:53,  5.37s/it]\u001b[A\u001b[A\n",
      "\n",
      " 53%|█████▎    | 10/19 [00:55<00:49,  5.50s/it]\u001b[A\u001b[A\n",
      "\n",
      " 58%|█████▊    | 11/19 [01:01<00:45,  5.72s/it]\u001b[A\u001b[A\n",
      "\n",
      " 63%|██████▎   | 12/19 [01:07<00:40,  5.78s/it]\u001b[A\u001b[A\n",
      "\n",
      " 68%|██████▊   | 13/19 [01:12<00:33,  5.64s/it]\u001b[A\u001b[A\n",
      "\n",
      " 74%|███████▎  | 14/19 [01:19<00:29,  5.85s/it]\u001b[A\u001b[A\n",
      "\n",
      " 79%|███████▉  | 15/19 [01:25<00:23,  5.85s/it]\u001b[A\u001b[A\n",
      "\n",
      " 84%|████████▍ | 16/19 [01:27<00:14,  4.94s/it]\u001b[A\u001b[A\n",
      "\n",
      " 89%|████████▉ | 17/19 [01:31<00:08,  4.41s/it]\u001b[A\u001b[A\n",
      "\n",
      " 95%|█████████▍| 18/19 [01:34<00:04,  4.17s/it]\u001b[A\u001b[A\n",
      "\n",
      "100%|██████████| 19/19 [01:39<00:00,  5.22s/it]\u001b[A\u001b[A\n",
      "\n",
      "\n",
      "  0%|          | 0/19 [00:00<?, ?it/s]\u001b[A\u001b[A"
     ]
    },
    {
     "name": "stdout",
     "output_type": "stream",
     "text": [
      "plot images\n"
     ]
    },
    {
     "name": "stderr",
     "output_type": "stream",
     "text": [
      "\n",
      "\n",
      "  5%|▌         | 1/19 [00:03<01:01,  3.42s/it]\u001b[A\u001b[A\n",
      "\n",
      " 11%|█         | 2/19 [00:07<00:59,  3.51s/it]\u001b[A\u001b[A\n",
      "\n",
      " 16%|█▌        | 3/19 [00:10<00:55,  3.49s/it]\u001b[A\u001b[A\n",
      "\n",
      " 21%|██        | 4/19 [00:14<00:52,  3.51s/it]\u001b[A\u001b[A\n",
      "\n",
      " 26%|██▋       | 5/19 [00:17<00:49,  3.53s/it]\u001b[A\u001b[A\n",
      "\n",
      " 32%|███▏      | 6/19 [00:21<00:46,  3.58s/it]\u001b[A\u001b[A\n",
      "\n",
      " 37%|███▋      | 7/19 [00:25<00:43,  3.60s/it]\u001b[A\u001b[A\n",
      "\n",
      " 42%|████▏     | 8/19 [00:28<00:39,  3.59s/it]\u001b[A\u001b[A\n",
      "\n",
      " 47%|████▋     | 9/19 [00:32<00:36,  3.64s/it]\u001b[A\u001b[A\n",
      "\n",
      " 53%|█████▎    | 10/19 [00:35<00:32,  3.59s/it]\u001b[A\u001b[A\n",
      "\n",
      " 58%|█████▊    | 11/19 [00:39<00:28,  3.54s/it]\u001b[A\u001b[A\n",
      "\n",
      " 63%|██████▎   | 12/19 [00:42<00:24,  3.50s/it]\u001b[A\u001b[A\n",
      "\n",
      " 68%|██████▊   | 13/19 [00:46<00:21,  3.59s/it]\u001b[A\u001b[A\n",
      "\n",
      " 74%|███████▎  | 14/19 [00:49<00:17,  3.55s/it]\u001b[A\u001b[A\n",
      "\n",
      " 79%|███████▉  | 15/19 [00:53<00:14,  3.54s/it]\u001b[A\u001b[A\n",
      "\n",
      " 84%|████████▍ | 16/19 [00:56<00:10,  3.52s/it]\u001b[A\u001b[A\n",
      "\n",
      " 89%|████████▉ | 17/19 [01:00<00:07,  3.58s/it]\u001b[A\u001b[A\n",
      "\n",
      " 95%|█████████▍| 18/19 [01:04<00:03,  3.55s/it]\u001b[A\u001b[A\n",
      "\n",
      "100%|██████████| 19/19 [01:07<00:00,  3.56s/it]\u001b[A\u001b[A\n",
      "\n",
      "\n",
      "  0%|          | 0/19 [00:00<?, ?it/s]\u001b[A\u001b[A"
     ]
    },
    {
     "name": "stdout",
     "output_type": "stream",
     "text": [
      "\n",
      "Graph: barbell\n",
      "\n",
      "Compute curvature at each markov time\n"
     ]
    },
    {
     "name": "stderr",
     "output_type": "stream",
     "text": [
      "\n",
      "\n",
      "  5%|▌         | 1/19 [00:03<01:06,  3.72s/it]\u001b[A\u001b[A\n",
      "\n",
      " 11%|█         | 2/19 [00:09<01:13,  4.30s/it]\u001b[A\u001b[A\n",
      "\n",
      " 16%|█▌        | 3/19 [00:15<01:18,  4.91s/it]\u001b[A\u001b[A\n",
      "\n",
      " 21%|██        | 4/19 [00:21<01:18,  5.20s/it]\u001b[A\u001b[A\n",
      "\n",
      " 26%|██▋       | 5/19 [00:27<01:16,  5.46s/it]\u001b[A\u001b[A\n",
      "\n",
      " 32%|███▏      | 6/19 [00:33<01:14,  5.72s/it]\u001b[A\u001b[A\n",
      "\n",
      " 37%|███▋      | 7/19 [00:40<01:10,  5.85s/it]\u001b[A\u001b[A\n",
      "\n",
      " 42%|████▏     | 8/19 [00:46<01:05,  5.97s/it]\u001b[A\u001b[A\n",
      "\n",
      " 47%|████▋     | 9/19 [00:52<01:00,  6.01s/it]\u001b[A\u001b[A\n",
      "\n",
      " 53%|█████▎    | 10/19 [00:58<00:53,  5.93s/it]\u001b[A\u001b[A\n",
      "\n",
      " 58%|█████▊    | 11/19 [01:03<00:46,  5.86s/it]\u001b[A\u001b[A\n",
      "\n",
      " 63%|██████▎   | 12/19 [01:09<00:39,  5.65s/it]\u001b[A\u001b[A\n",
      "\n",
      " 68%|██████▊   | 13/19 [01:14<00:33,  5.64s/it]\u001b[A\u001b[A\n",
      "\n",
      " 74%|███████▎  | 14/19 [01:20<00:28,  5.77s/it]\u001b[A\u001b[A\n",
      "\n",
      " 79%|███████▉  | 15/19 [01:26<00:23,  5.89s/it]\u001b[A\u001b[A\n",
      "\n",
      " 84%|████████▍ | 16/19 [01:29<00:14,  4.97s/it]\u001b[A\u001b[A\n",
      "\n",
      " 89%|████████▉ | 17/19 [01:32<00:08,  4.43s/it]\u001b[A\u001b[A\n",
      "\n",
      " 95%|█████████▍| 18/19 [01:36<00:04,  4.22s/it]\u001b[A\u001b[A\n",
      "\n",
      "100%|██████████| 19/19 [01:41<00:00,  5.33s/it]\u001b[A\u001b[A\n",
      "\n",
      "\n",
      "  0%|          | 0/19 [00:00<?, ?it/s]\u001b[A\u001b[A"
     ]
    },
    {
     "name": "stdout",
     "output_type": "stream",
     "text": [
      "plot images\n"
     ]
    },
    {
     "name": "stderr",
     "output_type": "stream",
     "text": [
      "\n",
      "\n",
      "  5%|▌         | 1/19 [00:04<01:16,  4.27s/it]\u001b[A\u001b[A\n",
      "\n",
      " 11%|█         | 2/19 [00:07<01:07,  3.99s/it]\u001b[A\u001b[A\n",
      "\n",
      " 16%|█▌        | 3/19 [00:11<01:01,  3.83s/it]\u001b[A\u001b[A\n",
      "\n",
      " 21%|██        | 4/19 [00:14<00:55,  3.71s/it]\u001b[A\u001b[A\n",
      "\n",
      " 26%|██▋       | 5/19 [00:17<00:50,  3.62s/it]\u001b[A\u001b[A\n",
      "\n",
      " 32%|███▏      | 6/19 [00:21<00:46,  3.56s/it]\u001b[A\u001b[A\n",
      "\n",
      " 37%|███▋      | 7/19 [00:25<00:43,  3.62s/it]\u001b[A\u001b[A\n",
      "\n",
      " 42%|████▏     | 8/19 [00:29<00:40,  3.72s/it]\u001b[A\u001b[A\n",
      "\n",
      " 47%|████▋     | 9/19 [00:32<00:36,  3.64s/it]\u001b[A\u001b[A\n",
      "\n",
      " 53%|█████▎    | 10/19 [00:35<00:32,  3.57s/it]\u001b[A\u001b[A\n",
      "\n",
      " 58%|█████▊    | 11/19 [00:39<00:28,  3.52s/it]\u001b[A\u001b[A\n",
      "\n",
      " 63%|██████▎   | 12/19 [00:42<00:24,  3.48s/it]\u001b[A\u001b[A\n",
      "\n",
      " 68%|██████▊   | 13/19 [00:46<00:20,  3.45s/it]\u001b[A\u001b[A\n",
      "\n",
      " 74%|███████▎  | 14/19 [00:49<00:17,  3.44s/it]\u001b[A\u001b[A\n",
      "\n",
      " 79%|███████▉  | 15/19 [00:53<00:14,  3.57s/it]\u001b[A\u001b[A\n",
      "\n",
      " 84%|████████▍ | 16/19 [00:56<00:10,  3.55s/it]\u001b[A\u001b[A\n",
      "\n",
      " 89%|████████▉ | 17/19 [01:00<00:07,  3.50s/it]\u001b[A\u001b[A\n",
      "\n",
      " 95%|█████████▍| 18/19 [01:03<00:03,  3.47s/it]\u001b[A\u001b[A\n",
      "\n",
      "100%|██████████| 19/19 [01:07<00:00,  3.53s/it]\u001b[A\u001b[A\n",
      "\n",
      "\n",
      "  0%|          | 0/19 [00:00<?, ?it/s]\u001b[A\u001b[A"
     ]
    },
    {
     "name": "stdout",
     "output_type": "stream",
     "text": [
      "\n",
      "Graph: barbell\n",
      "\n",
      "Compute curvature at each markov time\n"
     ]
    },
    {
     "name": "stderr",
     "output_type": "stream",
     "text": [
      "\n",
      "\n",
      "  5%|▌         | 1/19 [00:03<01:06,  3.70s/it]\u001b[A\u001b[A\n",
      "\n",
      " 11%|█         | 2/19 [00:09<01:15,  4.43s/it]\u001b[A\u001b[A\n",
      "\n",
      " 16%|█▌        | 3/19 [00:16<01:21,  5.09s/it]\u001b[A\u001b[A\n",
      "\n",
      " 21%|██        | 4/19 [00:22<01:21,  5.40s/it]\u001b[A\u001b[A\n",
      "\n",
      " 26%|██▋       | 5/19 [00:29<01:20,  5.78s/it]\u001b[A\u001b[A\n",
      "\n",
      " 32%|███▏      | 6/19 [00:35<01:18,  6.00s/it]\u001b[A\u001b[A\n",
      "\n",
      " 37%|███▋      | 7/19 [00:42<01:14,  6.19s/it]\u001b[A\u001b[A\n",
      "\n",
      " 42%|████▏     | 8/19 [00:46<00:59,  5.42s/it]\u001b[A\u001b[A\n",
      "\n",
      " 47%|████▋     | 9/19 [00:51<00:55,  5.53s/it]\u001b[A\u001b[A\n",
      "\n",
      " 53%|█████▎    | 10/19 [00:57<00:50,  5.64s/it]\u001b[A\u001b[A\n",
      "\n",
      " 58%|█████▊    | 11/19 [01:03<00:45,  5.63s/it]\u001b[A\u001b[A\n",
      "\n",
      " 63%|██████▎   | 12/19 [01:08<00:38,  5.43s/it]\u001b[A\u001b[A\n",
      "\n",
      " 68%|██████▊   | 13/19 [01:13<00:32,  5.48s/it]\u001b[A\u001b[A\n",
      "\n",
      " 74%|███████▎  | 14/19 [01:19<00:27,  5.52s/it]\u001b[A\u001b[A\n",
      "\n",
      " 79%|███████▉  | 15/19 [01:25<00:22,  5.71s/it]\u001b[A\u001b[A\n",
      "\n",
      " 84%|████████▍ | 16/19 [01:28<00:14,  4.86s/it]\u001b[A\u001b[A\n",
      "\n",
      " 89%|████████▉ | 17/19 [01:31<00:08,  4.36s/it]\u001b[A\u001b[A\n",
      "\n",
      " 95%|█████████▍| 18/19 [01:35<00:04,  4.16s/it]\u001b[A\u001b[A\n",
      "\n",
      "100%|██████████| 19/19 [01:40<00:00,  5.26s/it]\u001b[A\u001b[A\n",
      "\n",
      "\n",
      "  0%|          | 0/19 [00:00<?, ?it/s]\u001b[A\u001b[A"
     ]
    },
    {
     "name": "stdout",
     "output_type": "stream",
     "text": [
      "plot images\n"
     ]
    },
    {
     "name": "stderr",
     "output_type": "stream",
     "text": [
      "\n",
      "\n",
      "  5%|▌         | 1/19 [00:03<01:02,  3.45s/it]\u001b[A\u001b[A\n",
      "\n",
      " 11%|█         | 2/19 [00:07<01:02,  3.66s/it]\u001b[A\u001b[A\n",
      "\n",
      " 16%|█▌        | 3/19 [00:10<00:57,  3.57s/it]\u001b[A\u001b[A\n",
      "\n",
      " 21%|██        | 4/19 [00:14<00:52,  3.49s/it]\u001b[A\u001b[A\n",
      "\n",
      " 26%|██▋       | 5/19 [00:17<00:47,  3.43s/it]\u001b[A\u001b[A\n",
      "\n",
      " 32%|███▏      | 6/19 [00:20<00:44,  3.41s/it]\u001b[A\u001b[A\n",
      "\n",
      " 37%|███▋      | 7/19 [00:24<00:40,  3.38s/it]\u001b[A\u001b[A\n",
      "\n",
      " 42%|████▏     | 8/19 [00:27<00:37,  3.37s/it]\u001b[A\u001b[A\n",
      "\n",
      " 47%|████▋     | 9/19 [00:30<00:33,  3.38s/it]\u001b[A\u001b[A\n",
      "\n",
      " 53%|█████▎    | 10/19 [00:34<00:30,  3.37s/it]\u001b[A\u001b[A\n",
      "\n",
      " 58%|█████▊    | 11/19 [00:37<00:26,  3.36s/it]\u001b[A\u001b[A\n",
      "\n",
      " 63%|██████▎   | 12/19 [00:41<00:24,  3.55s/it]\u001b[A\u001b[A\n",
      "\n",
      " 68%|██████▊   | 13/19 [00:44<00:20,  3.49s/it]\u001b[A\u001b[A\n",
      "\n",
      " 74%|███████▎  | 14/19 [00:48<00:17,  3.46s/it]\u001b[A\u001b[A\n",
      "\n",
      " 79%|███████▉  | 15/19 [00:51<00:13,  3.43s/it]\u001b[A\u001b[A\n",
      "\n",
      " 84%|████████▍ | 16/19 [00:55<00:10,  3.40s/it]\u001b[A\u001b[A\n",
      "\n",
      " 89%|████████▉ | 17/19 [00:58<00:06,  3.38s/it]\u001b[A\u001b[A\n",
      "\n",
      " 95%|█████████▍| 18/19 [01:01<00:03,  3.39s/it]\u001b[A\u001b[A\n",
      "\n",
      "100%|██████████| 19/19 [01:05<00:00,  3.43s/it]\u001b[A\u001b[A\n",
      "\n",
      "\n",
      "  0%|          | 0/19 [00:00<?, ?it/s]\u001b[A\u001b[A"
     ]
    },
    {
     "name": "stdout",
     "output_type": "stream",
     "text": [
      "\n",
      "Graph: barbell\n",
      "\n",
      "Compute curvature at each markov time\n"
     ]
    },
    {
     "name": "stderr",
     "output_type": "stream",
     "text": [
      "\n",
      "\n",
      "  5%|▌         | 1/19 [00:04<01:13,  4.09s/it]\u001b[A\u001b[A\n",
      "\n",
      " 11%|█         | 2/19 [00:10<01:19,  4.68s/it]\u001b[A\u001b[A\n",
      "\n",
      " 16%|█▌        | 3/19 [00:16<01:25,  5.32s/it]\u001b[A\u001b[A\n",
      "\n",
      " 21%|██        | 4/19 [00:23<01:23,  5.56s/it]\u001b[A\u001b[A\n",
      "\n",
      " 26%|██▋       | 5/19 [00:29<01:22,  5.88s/it]\u001b[A\u001b[A\n",
      "\n",
      " 32%|███▏      | 6/19 [00:36<01:19,  6.09s/it]\u001b[A\u001b[A\n",
      "\n",
      " 37%|███▋      | 7/19 [00:40<01:08,  5.67s/it]\u001b[A\u001b[A\n",
      "\n",
      " 42%|████▏     | 8/19 [00:44<00:54,  4.98s/it]\u001b[A\u001b[A\n",
      "\n",
      " 47%|████▋     | 9/19 [00:50<00:51,  5.19s/it]\u001b[A\u001b[A\n",
      "\n",
      " 53%|█████▎    | 10/19 [00:56<00:49,  5.48s/it]\u001b[A\u001b[A\n",
      "\n",
      " 58%|█████▊    | 11/19 [01:02<00:44,  5.62s/it]\u001b[A\u001b[A\n",
      "\n",
      " 63%|██████▎   | 12/19 [01:07<00:39,  5.66s/it]\u001b[A\u001b[A\n",
      "\n",
      " 68%|██████▊   | 13/19 [01:13<00:33,  5.64s/it]\u001b[A\u001b[A\n",
      "\n",
      " 74%|███████▎  | 14/19 [01:19<00:28,  5.77s/it]\u001b[A\u001b[A\n",
      "\n",
      " 79%|███████▉  | 15/19 [01:25<00:23,  5.93s/it]\u001b[A\u001b[A\n",
      "\n",
      " 84%|████████▍ | 16/19 [01:28<00:15,  5.04s/it]\u001b[A\u001b[A\n",
      "\n",
      " 89%|████████▉ | 17/19 [01:32<00:09,  4.51s/it]\u001b[A\u001b[A\n",
      "\n",
      " 95%|█████████▍| 18/19 [01:36<00:04,  4.33s/it]\u001b[A\u001b[A\n",
      "\n",
      "100%|██████████| 19/19 [01:40<00:00,  5.30s/it]\u001b[A\u001b[A\n",
      "\n",
      "\n",
      "  0%|          | 0/19 [00:00<?, ?it/s]\u001b[A\u001b[A"
     ]
    },
    {
     "name": "stdout",
     "output_type": "stream",
     "text": [
      "plot images\n"
     ]
    },
    {
     "name": "stderr",
     "output_type": "stream",
     "text": [
      "\n",
      "\n",
      "  5%|▌         | 1/19 [00:03<01:00,  3.38s/it]\u001b[A\u001b[A\n",
      "\n",
      " 11%|█         | 2/19 [00:06<00:56,  3.35s/it]\u001b[A\u001b[A\n",
      "\n",
      " 16%|█▌        | 3/19 [00:09<00:53,  3.34s/it]\u001b[A\u001b[A\n",
      "\n",
      " 21%|██        | 4/19 [00:13<00:49,  3.33s/it]\u001b[A\u001b[A\n",
      "\n",
      " 26%|██▋       | 5/19 [00:16<00:46,  3.32s/it]\u001b[A\u001b[A\n",
      "\n",
      " 32%|███▏      | 6/19 [00:20<00:46,  3.60s/it]\u001b[A\u001b[A\n",
      "\n",
      " 37%|███▋      | 7/19 [00:24<00:42,  3.52s/it]\u001b[A\u001b[A\n",
      "\n",
      " 42%|████▏     | 8/19 [00:27<00:38,  3.48s/it]\u001b[A\u001b[A\n",
      "\n",
      " 47%|████▋     | 9/19 [00:30<00:34,  3.46s/it]\u001b[A\u001b[A\n",
      "\n",
      " 53%|█████▎    | 10/19 [00:34<00:30,  3.40s/it]\u001b[A\u001b[A\n",
      "\n",
      " 58%|█████▊    | 11/19 [00:37<00:26,  3.37s/it]\u001b[A\u001b[A\n",
      "\n",
      " 63%|██████▎   | 12/19 [00:40<00:23,  3.36s/it]\u001b[A\u001b[A\n",
      "\n",
      " 68%|██████▊   | 13/19 [00:44<00:20,  3.34s/it]\u001b[A\u001b[A\n",
      "\n",
      " 74%|███████▎  | 14/19 [00:47<00:16,  3.36s/it]\u001b[A\u001b[A\n",
      "\n",
      " 79%|███████▉  | 15/19 [00:51<00:13,  3.41s/it]\u001b[A\u001b[A\n",
      "\n",
      " 84%|████████▍ | 16/19 [00:54<00:10,  3.46s/it]\u001b[A\u001b[A\n",
      "\n",
      " 89%|████████▉ | 17/19 [00:58<00:07,  3.50s/it]\u001b[A\u001b[A\n",
      "\n",
      " 95%|█████████▍| 18/19 [01:01<00:03,  3.53s/it]\u001b[A\u001b[A\n",
      "\n",
      "100%|██████████| 19/19 [01:05<00:00,  3.44s/it]\u001b[A\u001b[A\n",
      "\n",
      "\n",
      "  0%|          | 0/19 [00:00<?, ?it/s]\u001b[A\u001b[A"
     ]
    },
    {
     "name": "stdout",
     "output_type": "stream",
     "text": [
      "\n",
      "Graph: barbell\n",
      "\n",
      "Compute curvature at each markov time\n"
     ]
    },
    {
     "name": "stderr",
     "output_type": "stream",
     "text": [
      "\n",
      "\n",
      "  5%|▌         | 1/19 [00:01<00:29,  1.66s/it]\u001b[A\u001b[A\n",
      "\n",
      " 11%|█         | 2/19 [00:07<00:51,  3.06s/it]\u001b[A\u001b[A\n",
      "\n",
      " 16%|█▌        | 3/19 [00:14<01:07,  4.23s/it]\u001b[A\u001b[A\n",
      "\n",
      " 21%|██        | 4/19 [00:21<01:12,  4.81s/it]\u001b[A\u001b[A\n",
      "\n",
      " 26%|██▋       | 5/19 [00:27<01:15,  5.39s/it]\u001b[A\u001b[A\n",
      "\n",
      " 32%|███▏      | 6/19 [00:34<01:14,  5.71s/it]\u001b[A\u001b[A\n",
      "\n",
      " 37%|███▋      | 7/19 [00:39<01:06,  5.58s/it]\u001b[A\u001b[A\n",
      "\n",
      " 42%|████▏     | 8/19 [00:43<00:55,  5.06s/it]\u001b[A\u001b[A\n",
      "\n",
      " 47%|████▋     | 9/19 [00:47<00:48,  4.85s/it]\u001b[A\u001b[A\n",
      "\n",
      " 53%|█████▎    | 10/19 [00:53<00:47,  5.23s/it]\u001b[A\u001b[A\n",
      "\n",
      " 58%|█████▊    | 11/19 [01:00<00:44,  5.50s/it]\u001b[A\u001b[A\n",
      "\n",
      " 63%|██████▎   | 12/19 [01:05<00:39,  5.63s/it]\u001b[A\u001b[A\n",
      "\n",
      " 68%|██████▊   | 13/19 [01:12<00:35,  5.95s/it]\u001b[A\u001b[A\n",
      "\n",
      " 74%|███████▎  | 14/19 [01:18<00:29,  5.83s/it]\u001b[A\u001b[A\n",
      "\n",
      " 79%|███████▉  | 15/19 [01:25<00:24,  6.14s/it]\u001b[A\u001b[A\n",
      "\n",
      " 84%|████████▍ | 16/19 [01:28<00:15,  5.23s/it]\u001b[A\u001b[A\n",
      "\n",
      " 89%|████████▉ | 17/19 [01:31<00:09,  4.75s/it]\u001b[A\u001b[A\n",
      "\n",
      " 95%|█████████▍| 18/19 [01:35<00:04,  4.52s/it]\u001b[A\u001b[A\n",
      "\n",
      "100%|██████████| 19/19 [01:40<00:00,  5.30s/it]\u001b[A\u001b[A\n",
      "\n",
      "\n",
      "  0%|          | 0/19 [00:00<?, ?it/s]\u001b[A\u001b[A"
     ]
    },
    {
     "name": "stdout",
     "output_type": "stream",
     "text": [
      "plot images\n"
     ]
    },
    {
     "name": "stderr",
     "output_type": "stream",
     "text": [
      "\n",
      "\n",
      "  5%|▌         | 1/19 [00:03<01:06,  3.68s/it]\u001b[A\u001b[A\n",
      "\n",
      " 11%|█         | 2/19 [00:07<01:02,  3.66s/it]\u001b[A\u001b[A\n",
      "\n",
      " 16%|█▌        | 3/19 [00:10<00:57,  3.62s/it]\u001b[A\u001b[A\n",
      "\n",
      " 21%|██        | 4/19 [00:14<00:53,  3.56s/it]\u001b[A\u001b[A\n",
      "\n",
      " 26%|██▋       | 5/19 [00:18<00:54,  3.86s/it]\u001b[A\u001b[A\n",
      "\n",
      " 32%|███▏      | 6/19 [00:22<00:48,  3.72s/it]\u001b[A\u001b[A\n",
      "\n",
      " 37%|███▋      | 7/19 [00:25<00:43,  3.62s/it]\u001b[A\u001b[A\n",
      "\n",
      " 42%|████▏     | 8/19 [00:29<00:39,  3.57s/it]\u001b[A\u001b[A\n",
      "\n",
      " 47%|████▋     | 9/19 [00:32<00:35,  3.53s/it]\u001b[A\u001b[A\n",
      "\n",
      " 53%|█████▎    | 10/19 [00:35<00:31,  3.50s/it]\u001b[A\u001b[A\n",
      "\n",
      " 58%|█████▊    | 11/19 [00:39<00:27,  3.48s/it]\u001b[A\u001b[A\n",
      "\n",
      " 63%|██████▎   | 12/19 [00:42<00:24,  3.46s/it]\u001b[A\u001b[A\n",
      "\n",
      " 68%|██████▊   | 13/19 [00:46<00:20,  3.42s/it]\u001b[A\u001b[A\n",
      "\n",
      " 74%|███████▎  | 14/19 [00:49<00:17,  3.41s/it]\u001b[A\u001b[A\n",
      "\n",
      " 79%|███████▉  | 15/19 [00:52<00:13,  3.42s/it]\u001b[A\u001b[A\n",
      "\n",
      " 84%|████████▍ | 16/19 [00:56<00:10,  3.42s/it]\u001b[A\u001b[A\n",
      "\n",
      " 89%|████████▉ | 17/19 [00:59<00:06,  3.42s/it]\u001b[A\u001b[A\n",
      "\n",
      " 95%|█████████▍| 18/19 [01:03<00:03,  3.40s/it]\u001b[A\u001b[A\n",
      "\n",
      "100%|██████████| 19/19 [01:06<00:00,  3.50s/it]\u001b[A\u001b[A\n",
      "\n",
      "\n",
      "  0%|          | 0/19 [00:00<?, ?it/s]\u001b[A\u001b[A"
     ]
    },
    {
     "name": "stdout",
     "output_type": "stream",
     "text": [
      "\n",
      "Graph: barbell\n",
      "\n",
      "Compute curvature at each markov time\n"
     ]
    },
    {
     "name": "stderr",
     "output_type": "stream",
     "text": [
      "\n",
      "\n",
      "  5%|▌         | 1/19 [00:01<00:31,  1.73s/it]\u001b[A\u001b[A\n",
      "\n",
      " 11%|█         | 2/19 [00:03<00:32,  1.89s/it]\u001b[A\u001b[A\n",
      "\n",
      " 16%|█▌        | 3/19 [00:11<00:54,  3.43s/it]\u001b[A\u001b[A\n",
      "\n",
      " 21%|██        | 4/19 [00:17<01:03,  4.23s/it]\u001b[A\u001b[A\n",
      "\n",
      " 26%|██▋       | 5/19 [00:23<01:10,  5.01s/it]\u001b[A\u001b[A\n",
      "\n",
      " 32%|███▏      | 6/19 [00:30<01:11,  5.52s/it]\u001b[A\u001b[A\n",
      "\n",
      " 37%|███▋      | 7/19 [00:35<01:05,  5.43s/it]\u001b[A\u001b[A\n",
      "\n",
      " 42%|████▏     | 8/19 [00:40<00:55,  5.06s/it]\u001b[A\u001b[A\n",
      "\n",
      " 47%|████▋     | 9/19 [00:45<00:51,  5.16s/it]\u001b[A\u001b[A\n",
      "\n",
      " 53%|█████▎    | 10/19 [00:50<00:46,  5.15s/it]\u001b[A\u001b[A\n",
      "\n",
      " 58%|█████▊    | 11/19 [00:56<00:42,  5.35s/it]\u001b[A\u001b[A\n",
      "\n",
      " 63%|██████▎   | 12/19 [01:02<00:39,  5.60s/it]\u001b[A\u001b[A\n",
      "\n",
      " 68%|██████▊   | 13/19 [01:07<00:32,  5.44s/it]\u001b[A\u001b[A\n",
      "\n",
      " 74%|███████▎  | 14/19 [01:13<00:28,  5.62s/it]\u001b[A\u001b[A\n",
      "\n",
      " 79%|███████▉  | 15/19 [01:19<00:23,  5.79s/it]\u001b[A\u001b[A\n",
      "\n",
      " 84%|████████▍ | 16/19 [01:23<00:15,  5.03s/it]\u001b[A\u001b[A\n",
      "\n",
      " 89%|████████▉ | 17/19 [01:26<00:09,  4.61s/it]\u001b[A\u001b[A\n",
      "\n",
      " 95%|█████████▍| 18/19 [01:30<00:04,  4.45s/it]\u001b[A\u001b[A\n",
      "\n",
      "100%|██████████| 19/19 [01:35<00:00,  5.04s/it]\u001b[A\u001b[A\n",
      "\n",
      "\n",
      "  0%|          | 0/19 [00:00<?, ?it/s]\u001b[A\u001b[A"
     ]
    },
    {
     "name": "stdout",
     "output_type": "stream",
     "text": [
      "plot images\n"
     ]
    },
    {
     "name": "stderr",
     "output_type": "stream",
     "text": [
      "\n",
      "\n",
      "  5%|▌         | 1/19 [00:03<01:01,  3.43s/it]\u001b[A\u001b[A\n",
      "\n",
      " 11%|█         | 2/19 [00:06<00:58,  3.44s/it]\u001b[A\u001b[A\n",
      "\n",
      " 16%|█▌        | 3/19 [00:10<00:54,  3.43s/it]\u001b[A\u001b[A\n",
      "\n",
      " 21%|██        | 4/19 [00:13<00:51,  3.45s/it]\u001b[A\u001b[A\n",
      "\n",
      " 26%|██▋       | 5/19 [00:17<00:48,  3.44s/it]\u001b[A\u001b[A\n",
      "\n",
      " 32%|███▏      | 6/19 [00:20<00:44,  3.43s/it]\u001b[A\u001b[A\n",
      "\n",
      " 37%|███▋      | 7/19 [00:24<00:41,  3.43s/it]\u001b[A\u001b[A\n",
      "\n",
      " 42%|████▏     | 8/19 [00:27<00:37,  3.41s/it]\u001b[A\u001b[A\n",
      "\n",
      " 47%|████▋     | 9/19 [00:30<00:33,  3.39s/it]\u001b[A\u001b[A\n",
      "\n",
      " 53%|█████▎    | 10/19 [00:34<00:30,  3.37s/it]\u001b[A\u001b[A\n",
      "\n",
      " 58%|█████▊    | 11/19 [00:37<00:27,  3.38s/it]\u001b[A\u001b[A\n",
      "\n",
      " 63%|██████▎   | 12/19 [00:40<00:23,  3.36s/it]\u001b[A\u001b[A\n",
      "\n",
      " 68%|██████▊   | 13/19 [00:45<00:22,  3.74s/it]\u001b[A\u001b[A\n",
      "\n",
      " 74%|███████▎  | 14/19 [00:48<00:18,  3.62s/it]\u001b[A\u001b[A\n",
      "\n",
      " 79%|███████▉  | 15/19 [00:52<00:14,  3.55s/it]\u001b[A\u001b[A\n",
      "\n",
      " 84%|████████▍ | 16/19 [00:55<00:10,  3.50s/it]\u001b[A\u001b[A\n",
      "\n",
      " 89%|████████▉ | 17/19 [00:58<00:06,  3.45s/it]\u001b[A\u001b[A\n",
      "\n",
      " 95%|█████████▍| 18/19 [01:02<00:03,  3.41s/it]\u001b[A\u001b[A\n",
      "\n",
      "100%|██████████| 19/19 [01:05<00:00,  3.45s/it]\u001b[A\u001b[A\n",
      "\n",
      "\n",
      "  0%|          | 0/19 [00:00<?, ?it/s]\u001b[A\u001b[A"
     ]
    },
    {
     "name": "stdout",
     "output_type": "stream",
     "text": [
      "\n",
      "Graph: barbell\n",
      "\n",
      "Compute curvature at each markov time\n"
     ]
    },
    {
     "name": "stderr",
     "output_type": "stream",
     "text": [
      "\n",
      "\n",
      "  5%|▌         | 1/19 [00:01<00:32,  1.79s/it]\u001b[A\u001b[A\n",
      "\n",
      " 11%|█         | 2/19 [00:04<00:32,  1.93s/it]\u001b[A\u001b[A\n",
      "\n",
      " 16%|█▌        | 3/19 [00:06<00:33,  2.09s/it]\u001b[A\u001b[A\n",
      "\n",
      " 21%|██        | 4/19 [00:12<00:50,  3.38s/it]\u001b[A\u001b[A\n",
      "\n",
      " 26%|██▋       | 5/19 [00:19<01:01,  4.43s/it]\u001b[A\u001b[A\n",
      "\n",
      " 32%|███▏      | 6/19 [00:26<01:07,  5.16s/it]\u001b[A\u001b[A\n",
      "\n",
      " 37%|███▋      | 7/19 [00:31<00:59,  4.98s/it]\u001b[A\u001b[A\n",
      "\n",
      " 42%|████▏     | 8/19 [00:35<00:51,  4.71s/it]\u001b[A\u001b[A\n",
      "\n",
      " 47%|████▋     | 9/19 [00:40<00:48,  4.87s/it]\u001b[A\u001b[A\n",
      "\n",
      " 53%|█████▎    | 10/19 [00:46<00:47,  5.32s/it]\u001b[A\u001b[A\n",
      "\n",
      " 58%|█████▊    | 11/19 [00:53<00:45,  5.66s/it]\u001b[A\u001b[A\n",
      "\n",
      " 63%|██████▎   | 12/19 [00:59<00:40,  5.85s/it]\u001b[A\u001b[A\n",
      "\n",
      " 68%|██████▊   | 13/19 [01:06<00:36,  6.07s/it]\u001b[A\u001b[A\n",
      "\n",
      " 74%|███████▎  | 14/19 [01:12<00:31,  6.23s/it]\u001b[A\u001b[A\n",
      "\n",
      " 79%|███████▉  | 15/19 [01:18<00:23,  5.98s/it]\u001b[A\u001b[A\n",
      "\n",
      " 84%|████████▍ | 16/19 [01:21<00:15,  5.19s/it]\u001b[A\u001b[A\n",
      "\n",
      " 89%|████████▉ | 17/19 [01:25<00:09,  4.72s/it]\u001b[A\u001b[A\n",
      "\n",
      " 95%|█████████▍| 18/19 [01:29<00:04,  4.53s/it]\u001b[A\u001b[A\n",
      "\n",
      "100%|██████████| 19/19 [01:34<00:00,  4.97s/it]\u001b[A\u001b[A\n",
      "\n",
      "\n",
      "  0%|          | 0/19 [00:00<?, ?it/s]\u001b[A\u001b[A"
     ]
    },
    {
     "name": "stdout",
     "output_type": "stream",
     "text": [
      "plot images\n"
     ]
    },
    {
     "name": "stderr",
     "output_type": "stream",
     "text": [
      "\n",
      "\n",
      "  5%|▌         | 1/19 [00:03<01:01,  3.41s/it]\u001b[A\u001b[A\n",
      "\n",
      " 11%|█         | 2/19 [00:06<00:57,  3.38s/it]\u001b[A\u001b[A\n",
      "\n",
      " 16%|█▌        | 3/19 [00:10<00:53,  3.36s/it]\u001b[A\u001b[A\n",
      "\n",
      " 21%|██        | 4/19 [00:15<00:57,  3.85s/it]\u001b[A\u001b[A\n",
      "\n",
      " 26%|██▋       | 5/19 [00:18<00:51,  3.69s/it]\u001b[A\u001b[A\n",
      "\n",
      " 32%|███▏      | 6/19 [00:21<00:46,  3.60s/it]\u001b[A\u001b[A\n",
      "\n",
      " 37%|███▋      | 7/19 [00:25<00:42,  3.51s/it]\u001b[A\u001b[A\n",
      "\n",
      " 42%|████▏     | 8/19 [00:28<00:38,  3.46s/it]\u001b[A\u001b[A\n",
      "\n",
      " 47%|████▋     | 9/19 [00:31<00:34,  3.43s/it]\u001b[A\u001b[A\n",
      "\n",
      " 53%|█████▎    | 10/19 [00:35<00:30,  3.40s/it]\u001b[A\u001b[A\n",
      "\n",
      " 58%|█████▊    | 11/19 [00:38<00:27,  3.38s/it]\u001b[A\u001b[A\n",
      "\n",
      " 63%|██████▎   | 12/19 [00:41<00:23,  3.35s/it]\u001b[A\u001b[A\n",
      "\n",
      " 68%|██████▊   | 13/19 [00:44<00:20,  3.34s/it]\u001b[A\u001b[A\n",
      "\n",
      " 74%|███████▎  | 14/19 [00:48<00:16,  3.32s/it]\u001b[A\u001b[A\n",
      "\n",
      " 79%|███████▉  | 15/19 [00:51<00:13,  3.33s/it]\u001b[A\u001b[A\n",
      "\n",
      " 84%|████████▍ | 16/19 [00:54<00:09,  3.32s/it]\u001b[A\u001b[A\n",
      "\n",
      " 89%|████████▉ | 17/19 [00:58<00:06,  3.35s/it]\u001b[A\u001b[A\n",
      "\n",
      " 95%|█████████▍| 18/19 [01:01<00:03,  3.33s/it]\u001b[A\u001b[A\n",
      "\n",
      "100%|██████████| 19/19 [01:04<00:00,  3.42s/it]\u001b[A\u001b[A\n",
      "\n",
      "\n",
      "  0%|          | 0/19 [00:00<?, ?it/s]\u001b[A\u001b[A"
     ]
    },
    {
     "name": "stdout",
     "output_type": "stream",
     "text": [
      "\n",
      "Graph: barbell\n",
      "\n",
      "Compute curvature at each markov time\n"
     ]
    },
    {
     "name": "stderr",
     "output_type": "stream",
     "text": [
      "\n",
      "\n",
      "  5%|▌         | 1/19 [00:01<00:34,  1.89s/it]\u001b[A\u001b[A\n",
      "\n",
      " 11%|█         | 2/19 [00:04<00:34,  2.04s/it]\u001b[A\u001b[A\n",
      "\n",
      " 16%|█▌        | 3/19 [00:06<00:35,  2.19s/it]\u001b[A\u001b[A\n",
      "\n",
      " 21%|██        | 4/19 [00:09<00:33,  2.26s/it]\u001b[A\u001b[A\n",
      "\n",
      " 26%|██▋       | 5/19 [00:16<00:51,  3.65s/it]\u001b[A\u001b[A\n",
      "\n",
      " 32%|███▏      | 6/19 [00:23<01:00,  4.67s/it]\u001b[A\u001b[A\n",
      "\n",
      " 37%|███▋      | 7/19 [00:28<00:57,  4.81s/it]\u001b[A\u001b[A\n",
      "\n",
      " 42%|████▏     | 8/19 [00:32<00:51,  4.66s/it]\u001b[A\u001b[A\n",
      "\n",
      " 47%|████▋     | 9/19 [00:38<00:50,  5.01s/it]\u001b[A\u001b[A\n",
      "\n",
      " 53%|█████▎    | 10/19 [00:44<00:48,  5.41s/it]\u001b[A\u001b[A\n",
      "\n",
      " 58%|█████▊    | 11/19 [00:51<00:46,  5.83s/it]\u001b[A\u001b[A\n",
      "\n",
      " 63%|██████▎   | 12/19 [00:57<00:40,  5.81s/it]\u001b[A\u001b[A\n",
      "\n",
      " 68%|██████▊   | 13/19 [01:04<00:36,  6.07s/it]\u001b[A\u001b[A\n",
      "\n",
      " 74%|███████▎  | 14/19 [01:10<00:31,  6.26s/it]\u001b[A\u001b[A\n",
      "\n",
      " 79%|███████▉  | 15/19 [01:17<00:25,  6.50s/it]\u001b[A\u001b[A\n",
      "\n",
      " 84%|████████▍ | 16/19 [01:21<00:16,  5.55s/it]\u001b[A\u001b[A\n",
      "\n",
      " 89%|████████▉ | 17/19 [01:24<00:09,  4.97s/it]\u001b[A\u001b[A\n",
      "\n",
      " 95%|█████████▍| 18/19 [01:28<00:04,  4.71s/it]\u001b[A\u001b[A\n",
      "\n",
      "100%|██████████| 19/19 [01:33<00:00,  4.94s/it]\u001b[A\u001b[A\n",
      "\n",
      "\n",
      "  0%|          | 0/19 [00:00<?, ?it/s]\u001b[A\u001b[A"
     ]
    },
    {
     "name": "stdout",
     "output_type": "stream",
     "text": [
      "plot images\n"
     ]
    },
    {
     "name": "stderr",
     "output_type": "stream",
     "text": [
      "\n",
      "\n",
      "  5%|▌         | 1/19 [00:03<01:01,  3.39s/it]\u001b[A\u001b[A\n",
      "\n",
      " 11%|█         | 2/19 [00:06<00:57,  3.36s/it]\u001b[A\u001b[A\n",
      "\n",
      " 16%|█▌        | 3/19 [00:09<00:53,  3.33s/it]\u001b[A\u001b[A\n",
      "\n",
      " 21%|██        | 4/19 [00:13<00:50,  3.34s/it]\u001b[A\u001b[A\n",
      "\n",
      " 26%|██▋       | 5/19 [00:16<00:46,  3.33s/it]\u001b[A\u001b[A\n",
      "\n",
      " 32%|███▏      | 6/19 [00:19<00:43,  3.33s/it]\u001b[A\u001b[A\n",
      "\n",
      " 37%|███▋      | 7/19 [00:23<00:39,  3.32s/it]\u001b[A\u001b[A\n",
      "\n",
      " 42%|████▏     | 8/19 [00:26<00:36,  3.32s/it]\u001b[A\u001b[A\n",
      "\n",
      " 47%|████▋     | 9/19 [00:29<00:33,  3.32s/it]\u001b[A\u001b[A\n",
      "\n",
      " 53%|█████▎    | 10/19 [00:33<00:29,  3.31s/it]\u001b[A\u001b[A\n",
      "\n",
      " 58%|█████▊    | 11/19 [00:36<00:26,  3.31s/it]\u001b[A\u001b[A\n",
      "\n",
      " 63%|██████▎   | 12/19 [00:39<00:23,  3.30s/it]\u001b[A\u001b[A\n",
      "\n",
      " 68%|██████▊   | 13/19 [00:43<00:19,  3.30s/it]\u001b[A\u001b[A\n",
      "\n",
      " 74%|███████▎  | 14/19 [00:46<00:16,  3.30s/it]\u001b[A\u001b[A\n",
      "\n",
      " 79%|███████▉  | 15/19 [00:49<00:13,  3.33s/it]\u001b[A\u001b[A\n",
      "\n",
      " 84%|████████▍ | 16/19 [00:53<00:09,  3.33s/it]\u001b[A\u001b[A\n",
      "\n",
      " 89%|████████▉ | 17/19 [00:56<00:06,  3.33s/it]\u001b[A\u001b[A\n",
      "\n",
      " 95%|█████████▍| 18/19 [00:59<00:03,  3.31s/it]\u001b[A\u001b[A\n",
      "\n",
      "100%|██████████| 19/19 [01:02<00:00,  3.31s/it]\u001b[A\u001b[A\n",
      "\n",
      "\n",
      "  0%|          | 0/19 [00:00<?, ?it/s]\u001b[A\u001b[A"
     ]
    },
    {
     "name": "stdout",
     "output_type": "stream",
     "text": [
      "\n",
      "Graph: barbell\n",
      "\n",
      "Compute curvature at each markov time\n"
     ]
    },
    {
     "name": "stderr",
     "output_type": "stream",
     "text": [
      "\n",
      "\n",
      "  5%|▌         | 1/19 [00:01<00:32,  1.80s/it]\u001b[A\u001b[A\n",
      "\n",
      " 11%|█         | 2/19 [00:04<00:33,  1.97s/it]\u001b[A\u001b[A\n",
      "\n",
      " 16%|█▌        | 3/19 [00:06<00:34,  2.18s/it]\u001b[A\u001b[A\n",
      "\n",
      " 21%|██        | 4/19 [00:09<00:33,  2.23s/it]\u001b[A\u001b[A\n",
      "\n",
      " 26%|██▋       | 5/19 [00:11<00:32,  2.32s/it]\u001b[A\u001b[A\n",
      "\n",
      " 32%|███▏      | 6/19 [00:18<00:48,  3.76s/it]\u001b[A\u001b[A\n",
      "\n",
      " 37%|███▋      | 7/19 [00:23<00:49,  4.14s/it]\u001b[A\u001b[A\n",
      "\n",
      " 42%|████▏     | 8/19 [00:27<00:45,  4.13s/it]\u001b[A\u001b[A\n",
      "\n",
      " 47%|████▋     | 9/19 [00:32<00:43,  4.39s/it]\u001b[A\u001b[A\n",
      "\n",
      " 53%|█████▎    | 10/19 [00:39<00:44,  4.97s/it]\u001b[A\u001b[A\n",
      "\n",
      " 58%|█████▊    | 11/19 [00:45<00:42,  5.31s/it]\u001b[A\u001b[A\n",
      "\n",
      " 63%|██████▎   | 12/19 [00:52<00:40,  5.77s/it]\u001b[A\u001b[A\n",
      "\n",
      " 68%|██████▊   | 13/19 [00:59<00:36,  6.08s/it]\u001b[A\u001b[A\n",
      "\n",
      " 74%|███████▎  | 14/19 [01:05<00:31,  6.20s/it]\u001b[A\u001b[A\n",
      "\n",
      " 79%|███████▉  | 15/19 [01:12<00:25,  6.38s/it]\u001b[A\u001b[A\n",
      "\n",
      " 84%|████████▍ | 16/19 [01:15<00:16,  5.49s/it]\u001b[A\u001b[A\n",
      "\n",
      " 89%|████████▉ | 17/19 [01:19<00:10,  5.01s/it]\u001b[A\u001b[A\n",
      "\n",
      " 95%|█████████▍| 18/19 [01:23<00:04,  4.78s/it]\u001b[A\u001b[A\n",
      "\n",
      "100%|██████████| 19/19 [01:28<00:00,  4.68s/it]\u001b[A\u001b[A\n",
      "\n",
      "\n",
      "  0%|          | 0/19 [00:00<?, ?it/s]\u001b[A\u001b[A"
     ]
    },
    {
     "name": "stdout",
     "output_type": "stream",
     "text": [
      "plot images\n"
     ]
    },
    {
     "name": "stderr",
     "output_type": "stream",
     "text": [
      "\n",
      "\n",
      "  5%|▌         | 1/19 [00:03<01:03,  3.50s/it]\u001b[A\u001b[A\n",
      "\n",
      " 11%|█         | 2/19 [00:06<00:58,  3.45s/it]\u001b[A\u001b[A\n",
      "\n",
      " 16%|█▌        | 3/19 [00:10<00:54,  3.41s/it]\u001b[A\u001b[A\n",
      "\n",
      " 21%|██        | 4/19 [00:13<00:50,  3.40s/it]\u001b[A\u001b[A\n",
      "\n",
      " 26%|██▋       | 5/19 [00:16<00:47,  3.38s/it]\u001b[A\u001b[A\n",
      "\n",
      " 32%|███▏      | 6/19 [00:20<00:43,  3.37s/it]\u001b[A\u001b[A\n",
      "\n",
      " 37%|███▋      | 7/19 [00:23<00:40,  3.38s/it]\u001b[A\u001b[A\n",
      "\n",
      " 42%|████▏     | 8/19 [00:27<00:37,  3.40s/it]\u001b[A\u001b[A\n",
      "\n",
      " 47%|████▋     | 9/19 [00:30<00:33,  3.39s/it]\u001b[A\u001b[A\n",
      "\n",
      " 53%|█████▎    | 10/19 [00:33<00:30,  3.37s/it]\u001b[A\u001b[A\n",
      "\n",
      " 58%|█████▊    | 11/19 [00:37<00:27,  3.39s/it]\u001b[A\u001b[A\n",
      "\n",
      " 63%|██████▎   | 12/19 [00:40<00:23,  3.38s/it]\u001b[A\u001b[A\n",
      "\n",
      " 68%|██████▊   | 13/19 [00:43<00:20,  3.37s/it]\u001b[A\u001b[A\n",
      "\n",
      " 74%|███████▎  | 14/19 [00:47<00:16,  3.36s/it]\u001b[A\u001b[A\n",
      "\n",
      " 79%|███████▉  | 15/19 [00:50<00:13,  3.35s/it]\u001b[A\u001b[A\n",
      "\n",
      " 84%|████████▍ | 16/19 [00:53<00:09,  3.32s/it]\u001b[A\u001b[A\n",
      "\n",
      " 89%|████████▉ | 17/19 [00:57<00:06,  3.32s/it]\u001b[A\u001b[A\n",
      "\n",
      " 95%|█████████▍| 18/19 [01:00<00:03,  3.33s/it]\u001b[A\u001b[A\n",
      "\n",
      "100%|██████████| 19/19 [01:03<00:00,  3.36s/it]\u001b[A\u001b[A\n",
      "\n",
      "\n",
      "  0%|          | 0/19 [00:00<?, ?it/s]\u001b[A\u001b[A"
     ]
    },
    {
     "name": "stdout",
     "output_type": "stream",
     "text": [
      "\n",
      "Graph: barbell\n",
      "\n",
      "Compute curvature at each markov time\n"
     ]
    },
    {
     "name": "stderr",
     "output_type": "stream",
     "text": [
      "\n",
      "\n",
      "  5%|▌         | 1/19 [00:01<00:33,  1.86s/it]\u001b[A\u001b[A\n",
      "\n",
      " 11%|█         | 2/19 [00:04<00:34,  2.02s/it]\u001b[A\u001b[A\n",
      "\n",
      " 16%|█▌        | 3/19 [00:06<00:35,  2.21s/it]\u001b[A\u001b[A\n",
      "\n",
      " 21%|██        | 4/19 [00:09<00:33,  2.26s/it]\u001b[A\u001b[A\n",
      "\n",
      " 26%|██▋       | 5/19 [00:11<00:33,  2.39s/it]\u001b[A\u001b[A\n",
      "\n",
      " 32%|███▏      | 6/19 [00:14<00:32,  2.53s/it]\u001b[A\u001b[A\n",
      "\n",
      " 37%|███▋      | 7/19 [00:20<00:40,  3.36s/it]\u001b[A\u001b[A\n",
      "\n",
      " 42%|████▏     | 8/19 [00:24<00:39,  3.63s/it]\u001b[A\u001b[A\n",
      "\n",
      " 47%|████▋     | 9/19 [00:29<00:40,  4.09s/it]\u001b[A\u001b[A\n",
      "\n",
      " 53%|█████▎    | 10/19 [00:36<00:45,  5.02s/it]\u001b[A\u001b[A\n",
      "\n",
      " 58%|█████▊    | 11/19 [00:42<00:42,  5.33s/it]\u001b[A\u001b[A\n",
      "\n",
      " 63%|██████▎   | 12/19 [00:49<00:40,  5.75s/it]\u001b[A\u001b[A\n",
      "\n",
      " 68%|██████▊   | 13/19 [00:55<00:35,  5.96s/it]\u001b[A\u001b[A\n",
      "\n",
      " 74%|███████▎  | 14/19 [01:02<00:30,  6.16s/it]\u001b[A\u001b[A\n",
      "\n",
      " 79%|███████▉  | 15/19 [01:09<00:25,  6.46s/it]\u001b[A\u001b[A\n",
      "\n",
      " 84%|████████▍ | 16/19 [01:13<00:16,  5.59s/it]\u001b[A\u001b[A\n",
      "\n",
      " 89%|████████▉ | 17/19 [01:17<00:10,  5.09s/it]\u001b[A\u001b[A\n",
      "\n",
      " 95%|█████████▍| 18/19 [01:21<00:04,  4.90s/it]\u001b[A\u001b[A\n",
      "\n",
      "100%|██████████| 19/19 [01:27<00:00,  4.58s/it]\u001b[A\u001b[A\n",
      "\n",
      "\n",
      "  0%|          | 0/19 [00:00<?, ?it/s]\u001b[A\u001b[A"
     ]
    },
    {
     "name": "stdout",
     "output_type": "stream",
     "text": [
      "plot images\n"
     ]
    },
    {
     "name": "stderr",
     "output_type": "stream",
     "text": [
      "\n",
      "\n",
      "  5%|▌         | 1/19 [00:03<01:07,  3.74s/it]\u001b[A\u001b[A\n",
      "\n",
      " 11%|█         | 2/19 [00:07<01:02,  3.66s/it]\u001b[A\u001b[A\n",
      "\n",
      " 16%|█▌        | 3/19 [00:10<00:58,  3.64s/it]\u001b[A\u001b[A\n",
      "\n",
      " 21%|██        | 4/19 [00:14<00:54,  3.64s/it]\u001b[A\u001b[A\n",
      "\n",
      " 26%|██▋       | 5/19 [00:17<00:50,  3.60s/it]\u001b[A\u001b[A\n",
      "\n",
      " 32%|███▏      | 6/19 [00:21<00:46,  3.58s/it]\u001b[A\u001b[A\n",
      "\n",
      " 37%|███▋      | 7/19 [00:25<00:42,  3.57s/it]\u001b[A\u001b[A\n",
      "\n",
      " 42%|████▏     | 8/19 [00:28<00:39,  3.56s/it]\u001b[A\u001b[A\n",
      "\n",
      " 47%|████▋     | 9/19 [00:32<00:35,  3.55s/it]\u001b[A\u001b[A\n",
      "\n",
      " 53%|█████▎    | 10/19 [00:35<00:32,  3.57s/it]\u001b[A\u001b[A\n",
      "\n",
      " 58%|█████▊    | 11/19 [00:39<00:28,  3.55s/it]\u001b[A\u001b[A\n",
      "\n",
      " 63%|██████▎   | 12/19 [00:42<00:24,  3.46s/it]\u001b[A\u001b[A\n",
      "\n",
      " 68%|██████▊   | 13/19 [00:45<00:20,  3.41s/it]\u001b[A\u001b[A\n",
      "\n",
      " 74%|███████▎  | 14/19 [00:49<00:16,  3.40s/it]\u001b[A\u001b[A\n",
      "\n",
      " 79%|███████▉  | 15/19 [00:52<00:13,  3.37s/it]\u001b[A\u001b[A\n",
      "\n",
      " 84%|████████▍ | 16/19 [00:55<00:10,  3.36s/it]\u001b[A\u001b[A\n",
      "\n",
      " 89%|████████▉ | 17/19 [00:59<00:06,  3.34s/it]\u001b[A\u001b[A\n",
      "\n",
      " 95%|█████████▍| 18/19 [01:02<00:03,  3.32s/it]\u001b[A\u001b[A\n",
      "\n",
      "100%|██████████| 19/19 [01:05<00:00,  3.45s/it]\u001b[A\u001b[A\n"
     ]
    },
    {
     "data": {
      "image/png": "[encoded data removed]",
      "text/plain": [
       "<Figure size 432x288 with 4 Axes>"
      ]
     },
     "metadata": {
      "needs_background": "light"
     },
     "output_type": "display_data"
    },
    {
     "data": {
      "image/png": "[encoded data removed]",
      "text/plain": [
       "<Figure size 432x288 with 4 Axes>"
      ]
     },
     "metadata": {
      "needs_background": "light"
     },
     "output_type": "display_data"
    },
    {
     "data": {
      "image/png": "[encoded data removed]",
      "text/plain": [
       "<Figure size 432x288 with 4 Axes>"
      ]
     },
     "metadata": {
      "needs_background": "light"
     },
     "output_type": "display_data"
    },
    {
     "data": {
      "image/png": "[encoded data removed]",
      "text/plain": [
       "<Figure size 432x288 with 4 Axes>"
      ]
     },
     "metadata": {
      "needs_background": "light"
     },
     "output_type": "display_data"
    },
    {
     "data": {
      "image/png": "[encoded data removed]",
      "text/plain": [
       "<Figure size 432x288 with 4 Axes>"
      ]
     },
     "metadata": {
      "needs_background": "light"
     },
     "output_type": "display_data"
    },
    {
     "data": {
      "image/png": "[encoded data removed]",
      "text/plain": [
       "<Figure size 432x288 with 4 Axes>"
      ]
     },
     "metadata": {
      "needs_background": "light"
     },
     "output_type": "display_data"
    },
    {
     "data": {
      "image/png": "[encoded data removed]",
      "text/plain": [
       "<Figure size 432x288 with 4 Axes>"
      ]
     },
     "metadata": {
      "needs_background": "light"
     },
     "output_type": "display_data"
    },
    {
     "data": {
      "image/png": "[encoded data removed]",
      "text/plain": [
       "<Figure size 432x288 with 4 Axes>"
      ]
     },
     "metadata": {
      "needs_background": "light"
     },
     "output_type": "display_data"
    },
    {
     "data": {
      "image/png": "[encoded data removed]",
      "text/plain": [
       "<Figure size 432x288 with 4 Axes>"
      ]
     },
     "metadata": {
      "needs_background": "light"
     },
     "output_type": "display_data"
    },
    {
     "data": {
      "image/png": "[encoded data removed]",
      "text/plain": [
       "<Figure size 432x288 with 4 Axes>"
      ]
     },
     "metadata": {
      "needs_background": "light"
     },
     "output_type": "display_data"
    }
   ],
   "source": [
    "#Generate graph \n",
    "params_2 = [{'m1': 100, 'm2': i} for i in range(10)]\n",
    "\n",
    "kappas_2 = {}\n",
    "for i in range(len(params_2)):\n",
    "    graph,_ = generate_barbell(params_2[i])\n",
    "        \n",
    "    # initialise the code with parameters and graph \n",
    "    graph.graph['name'] = 'barbell'\n",
    "    pos = nx.spring_layout(graph, weight='weight')\n",
    "    graph = assign_graph_metadata(graph, pos=pos)\n",
    "\n",
    "    # initialise the code with parameters and graph\n",
    "    gc = GeoCluster(graph, T=np.logspace(-2., 3., 20), use_spectral_gap = False)\n",
    "                 \n",
    "    #Compute the OR curvatures are all the times\n",
    "    gc.compute_OR_curvatures(save=False, workers=16)\n",
    "    kappas_2[i] = gc.Kappa\n",
    "    \n",
    "    #Save results for later analysis\n",
    "    gc.plot_edge_curvature(filename = 'barbell_2_' + str(i), log=False)\n",
    "    gc.plot_graph_snapshots(filename = 'barbell_2_' + str(i), edge_width=1, node_size=10)"
   ]
  },
  {
   "cell_type": "code",
   "execution_count": 16,
   "metadata": {},
   "outputs": [
    {
     "data": {
      "image/png": "[encoded data removed]",
      "text/plain": [
       "<Figure size 432x288 with 1 Axes>"
      ]
     },
     "metadata": {
      "needs_background": "light"
     },
     "output_type": "display_data"
    }
   ],
   "source": [
    "min_kappa_2 = [kappas_2[i].min() for i in range(len(kappas_2))]\n",
    "l = [2*params_2[i]['m2'] for i in range(len(kappas_2))]\n",
    "plt.plot(l, min_kappa_2)\n",
    "plt.xlabel('Length of bottleneck')\n",
    "plt.ylabel(r'$\\min\\, \\kappa_{ij}$')\n",
    "plt.savefig('vary_m2.svg')\n",
    "plt.show()"
   ]
  },
  {
   "cell_type": "markdown",
   "metadata": {},
   "source": [
    "# Vary weight of single edge between barbells"
   ]
  },
  {
   "cell_type": "code",
   "execution_count": 44,
   "metadata": {},
   "outputs": [
    {
     "name": "stderr",
     "output_type": "stream",
     "text": [
      "\n",
      "\n",
      "\n",
      "\n",
      "\n",
      "\n",
      "\n",
      "\n",
      "  0%|          | 0/19 [00:00<?, ?it/s]\u001b[A\u001b[A\u001b[A\u001b[A\u001b[A\u001b[A\u001b[A\u001b[A"
     ]
    },
    {
     "name": "stdout",
     "output_type": "stream",
     "text": [
      "\n",
      "Graph: barbell\n",
      "\n",
      "Compute curvature at each markov time\n"
     ]
    },
    {
     "name": "stderr",
     "output_type": "stream",
     "text": [
      "/home/gosztolai/Dropbox/github/geometric_clustering/geocluster/curvature.py:56: RuntimeWarning: divide by zero encountered in double_scalars\n",
      "  K = 1. - W / dist[i, j]\n",
      "\n",
      "\n",
      "\n",
      "\n",
      "\n",
      "\n",
      "\n",
      "\n",
      "  5%|▌         | 1/19 [00:04<01:20,  4.47s/it]\u001b[A\u001b[A\u001b[A\u001b[A\u001b[A\u001b[A\u001b[A\u001b[AProcess ForkPoolWorker-11956:\n",
      "Process ForkPoolWorker-11953:\n",
      "Process ForkPoolWorker-11959:\n",
      "Process ForkPoolWorker-11958:\n",
      "Process ForkPoolWorker-11954:\n",
      "Process ForkPoolWorker-11966:\n",
      "Process ForkPoolWorker-11964:\n",
      "Process ForkPoolWorker-11967:\n",
      "Process ForkPoolWorker-11963:\n",
      "Process ForkPoolWorker-11957:\n",
      "Process ForkPoolWorker-11962:\n",
      "Process ForkPoolWorker-11968:\n",
      "Traceback (most recent call last):\n",
      "Traceback (most recent call last):\n",
      "Traceback (most recent call last):\n",
      "Process ForkPoolWorker-11961:\n",
      "Process ForkPoolWorker-11960:\n",
      "Process ForkPoolWorker-11955:\n",
      "Traceback (most recent call last):\n",
      "  File \"/home/gosztolai/anaconda3/lib/python3.7/multiprocessing/process.py\", line 297, in _bootstrap\n",
      "    self.run()\n",
      "Traceback (most recent call last):\n",
      "Process ForkPoolWorker-11965:\n",
      "Traceback (most recent call last):\n",
      "Traceback (most recent call last):\n",
      "  File \"/home/gosztolai/anaconda3/lib/python3.7/multiprocessing/process.py\", line 297, in _bootstrap\n",
      "    self.run()\n",
      "Traceback (most recent call last):\n",
      "Traceback (most recent call last):\n",
      "  File \"/home/gosztolai/anaconda3/lib/python3.7/multiprocessing/process.py\", line 297, in _bootstrap\n",
      "    self.run()\n",
      "  File \"/home/gosztolai/anaconda3/lib/python3.7/multiprocessing/process.py\", line 99, in run\n",
      "    self._target(*self._args, **self._kwargs)\n",
      "Traceback (most recent call last):\n",
      "Traceback (most recent call last):\n",
      "Traceback (most recent call last):\n",
      "Traceback (most recent call last):\n",
      "  File \"/home/gosztolai/anaconda3/lib/python3.7/multiprocessing/process.py\", line 297, in _bootstrap\n",
      "    self.run()\n",
      "  File \"/home/gosztolai/anaconda3/lib/python3.7/multiprocessing/process.py\", line 297, in _bootstrap\n",
      "    self.run()\n",
      "  File \"/home/gosztolai/anaconda3/lib/python3.7/multiprocessing/pool.py\", line 121, in worker\n",
      "    result = (True, func(*args, **kwds))\n",
      "  File \"/home/gosztolai/anaconda3/lib/python3.7/multiprocessing/process.py\", line 297, in _bootstrap\n",
      "    self.run()\n",
      "  File \"/home/gosztolai/anaconda3/lib/python3.7/multiprocessing/process.py\", line 99, in run\n",
      "    self._target(*self._args, **self._kwargs)\n",
      "Traceback (most recent call last):\n",
      "Traceback (most recent call last):\n",
      "Traceback (most recent call last):\n",
      "  File \"/home/gosztolai/anaconda3/lib/python3.7/multiprocessing/process.py\", line 99, in run\n",
      "    self._target(*self._args, **self._kwargs)\n",
      "  File \"/home/gosztolai/anaconda3/lib/python3.7/multiprocessing/process.py\", line 99, in run\n",
      "    self._target(*self._args, **self._kwargs)\n",
      "  File \"/home/gosztolai/anaconda3/lib/python3.7/multiprocessing/process.py\", line 297, in _bootstrap\n",
      "    self.run()\n",
      "  File \"/home/gosztolai/anaconda3/lib/python3.7/multiprocessing/process.py\", line 297, in _bootstrap\n",
      "    self.run()\n",
      "  File \"/home/gosztolai/anaconda3/lib/python3.7/multiprocessing/process.py\", line 297, in _bootstrap\n",
      "    self.run()\n",
      "  File \"/home/gosztolai/anaconda3/lib/python3.7/multiprocessing/process.py\", line 297, in _bootstrap\n",
      "    self.run()\n",
      "  File \"/home/gosztolai/anaconda3/lib/python3.7/multiprocessing/process.py\", line 297, in _bootstrap\n",
      "    self.run()\n",
      "  File \"/home/gosztolai/anaconda3/lib/python3.7/multiprocessing/pool.py\", line 44, in mapstar\n",
      "    return list(map(*args))\n",
      "  File \"/home/gosztolai/anaconda3/lib/python3.7/multiprocessing/process.py\", line 99, in run\n",
      "    self._target(*self._args, **self._kwargs)\n",
      "  File \"/home/gosztolai/anaconda3/lib/python3.7/multiprocessing/process.py\", line 297, in _bootstrap\n",
      "    self.run()\n",
      "  File \"/home/gosztolai/anaconda3/lib/python3.7/multiprocessing/pool.py\", line 110, in worker\n",
      "    task = get()\n",
      "  File \"/home/gosztolai/anaconda3/lib/python3.7/multiprocessing/process.py\", line 297, in _bootstrap\n",
      "    self.run()\n",
      "  File \"/home/gosztolai/anaconda3/lib/python3.7/multiprocessing/pool.py\", line 110, in worker\n",
      "    task = get()\n",
      "  File \"/home/gosztolai/anaconda3/lib/python3.7/multiprocessing/process.py\", line 297, in _bootstrap\n",
      "    self.run()\n",
      "  File \"/home/gosztolai/anaconda3/lib/python3.7/multiprocessing/process.py\", line 99, in run\n",
      "    self._target(*self._args, **self._kwargs)\n",
      "  File \"/home/gosztolai/anaconda3/lib/python3.7/multiprocessing/process.py\", line 99, in run\n",
      "    self._target(*self._args, **self._kwargs)\n",
      "  File \"/home/gosztolai/anaconda3/lib/python3.7/multiprocessing/process.py\", line 99, in run\n",
      "    self._target(*self._args, **self._kwargs)\n",
      "  File \"/home/gosztolai/Dropbox/github/geometric_clustering/geocluster/curvature.py\", line 51, in K_ij\n",
      "    W = ot.emd2(mx, my, dNxNy)\n",
      "  File \"/home/gosztolai/anaconda3/lib/python3.7/multiprocessing/queues.py\", line 351, in get\n",
      "    with self._rlock:\n",
      "  File \"/home/gosztolai/anaconda3/lib/python3.7/multiprocessing/process.py\", line 99, in run\n",
      "    self._target(*self._args, **self._kwargs)\n",
      "  File \"/home/gosztolai/anaconda3/lib/python3.7/multiprocessing/process.py\", line 99, in run\n",
      "    self._target(*self._args, **self._kwargs)\n",
      "  File \"/home/gosztolai/anaconda3/lib/python3.7/multiprocessing/queues.py\", line 351, in get\n",
      "    with self._rlock:\n",
      "  File \"/home/gosztolai/anaconda3/lib/python3.7/multiprocessing/pool.py\", line 121, in worker\n",
      "    result = (True, func(*args, **kwds))\n",
      "  File \"/home/gosztolai/anaconda3/lib/python3.7/multiprocessing/pool.py\", line 110, in worker\n",
      "    task = get()\n",
      "  File \"/home/gosztolai/anaconda3/lib/python3.7/multiprocessing/pool.py\", line 110, in worker\n",
      "    task = get()\n",
      "  File \"/home/gosztolai/anaconda3/lib/python3.7/site-packages/ot/lp/__init__.py\", line 234, in emd2\n",
      "    return f(b)\n",
      "  File \"/home/gosztolai/anaconda3/lib/python3.7/multiprocessing/pool.py\", line 121, in worker\n",
      "    result = (True, func(*args, **kwds))\n",
      "  File \"/home/gosztolai/anaconda3/lib/python3.7/multiprocessing/synchronize.py\", line 95, in __enter__\n",
      "    return self._semlock.__enter__()\n",
      "  File \"/home/gosztolai/anaconda3/lib/python3.7/multiprocessing/process.py\", line 99, in run\n",
      "    self._target(*self._args, **self._kwargs)\n",
      "  File \"/home/gosztolai/anaconda3/lib/python3.7/multiprocessing/pool.py\", line 121, in worker\n",
      "    result = (True, func(*args, **kwds))\n",
      "  File \"/home/gosztolai/anaconda3/lib/python3.7/multiprocessing/synchronize.py\", line 95, in __enter__\n",
      "    return self._semlock.__enter__()\n",
      "  File \"/home/gosztolai/anaconda3/lib/python3.7/multiprocessing/queues.py\", line 352, in get\n",
      "    res = self._reader.recv_bytes()\n",
      "  File \"/home/gosztolai/anaconda3/lib/python3.7/multiprocessing/queues.py\", line 351, in get\n",
      "    with self._rlock:\n",
      "  File \"/home/gosztolai/anaconda3/lib/python3.7/multiprocessing/process.py\", line 99, in run\n",
      "    self._target(*self._args, **self._kwargs)\n",
      "  File \"/home/gosztolai/anaconda3/lib/python3.7/multiprocessing/pool.py\", line 44, in mapstar\n",
      "    return list(map(*args))\n",
      "KeyboardInterrupt\n",
      "  File \"/home/gosztolai/anaconda3/lib/python3.7/multiprocessing/pool.py\", line 44, in mapstar\n",
      "    return list(map(*args))\n",
      "  File \"/home/gosztolai/anaconda3/lib/python3.7/multiprocessing/process.py\", line 297, in _bootstrap\n",
      "    self.run()\n",
      "  File \"/home/gosztolai/anaconda3/lib/python3.7/multiprocessing/pool.py\", line 44, in mapstar\n",
      "    return list(map(*args))\n",
      "  File \"/home/gosztolai/anaconda3/lib/python3.7/multiprocessing/pool.py\", line 121, in worker\n",
      "    result = (True, func(*args, **kwds))\n",
      "  File \"/home/gosztolai/anaconda3/lib/python3.7/multiprocessing/process.py\", line 99, in run\n",
      "    self._target(*self._args, **self._kwargs)\n",
      "  File \"/home/gosztolai/Dropbox/github/geometric_clustering/geocluster/curvature.py\", line 51, in K_ij\n",
      "    W = ot.emd2(mx, my, dNxNy)\n",
      "KeyboardInterrupt\n",
      "  File \"/home/gosztolai/anaconda3/lib/python3.7/multiprocessing/connection.py\", line 216, in recv_bytes\n",
      "    buf = self._recv_bytes(maxlength)\n",
      "  File \"/home/gosztolai/anaconda3/lib/python3.7/multiprocessing/synchronize.py\", line 95, in __enter__\n",
      "    return self._semlock.__enter__()\n",
      "  File \"/home/gosztolai/Dropbox/github/geometric_clustering/geocluster/curvature.py\", line 51, in K_ij\n",
      "    W = ot.emd2(mx, my, dNxNy)\n",
      "  File \"/home/gosztolai/anaconda3/lib/python3.7/multiprocessing/pool.py\", line 44, in mapstar\n",
      "    return list(map(*args))\n",
      "  File \"/home/gosztolai/anaconda3/lib/python3.7/multiprocessing/process.py\", line 99, in run\n",
      "    self._target(*self._args, **self._kwargs)\n"
     ]
    },
    {
     "name": "stderr",
     "output_type": "stream",
     "text": [
      "  File \"/home/gosztolai/Dropbox/github/geometric_clustering/geocluster/curvature.py\", line 51, in K_ij\n",
      "    W = ot.emd2(mx, my, dNxNy)\n",
      "  File \"/home/gosztolai/anaconda3/lib/python3.7/site-packages/ot/lp/__init__.py\", line 234, in emd2\n",
      "    return f(b)\n",
      "  File \"/home/gosztolai/anaconda3/lib/python3.7/multiprocessing/connection.py\", line 407, in _recv_bytes\n",
      "    buf = self._recv(4)\n",
      "  File \"/home/gosztolai/anaconda3/lib/python3.7/multiprocessing/pool.py\", line 121, in worker\n",
      "    result = (True, func(*args, **kwds))\n",
      "KeyboardInterrupt\n",
      "  File \"/home/gosztolai/anaconda3/lib/python3.7/site-packages/ot/lp/__init__.py\", line 234, in emd2\n",
      "    return f(b)\n",
      "  File \"/home/gosztolai/anaconda3/lib/python3.7/multiprocessing/process.py\", line 297, in _bootstrap\n",
      "    self.run()\n",
      "  File \"/home/gosztolai/anaconda3/lib/python3.7/multiprocessing/pool.py\", line 121, in worker\n",
      "    result = (True, func(*args, **kwds))\n",
      "  File \"/home/gosztolai/anaconda3/lib/python3.7/site-packages/ot/lp/__init__.py\", line 234, in emd2\n",
      "    return f(b)\n",
      "  File \"/home/gosztolai/Dropbox/github/geometric_clustering/geocluster/curvature.py\", line 51, in K_ij\n",
      "    W = ot.emd2(mx, my, dNxNy)\n",
      "  File \"/home/gosztolai/anaconda3/lib/python3.7/site-packages/ot/lp/__init__.py\", line 229, in f\n",
      "    G, cost, u, v, result_code = emd_c(a, b, M, numItermax)\n",
      "  File \"/home/gosztolai/anaconda3/lib/python3.7/multiprocessing/connection.py\", line 379, in _recv\n",
      "    chunk = read(handle, remaining)\n",
      "  File \"/home/gosztolai/anaconda3/lib/python3.7/multiprocessing/pool.py\", line 121, in worker\n",
      "    result = (True, func(*args, **kwds))\n",
      "  File \"/home/gosztolai/anaconda3/lib/python3.7/multiprocessing/pool.py\", line 121, in worker\n",
      "    result = (True, func(*args, **kwds))\n",
      "  File \"/home/gosztolai/anaconda3/lib/python3.7/multiprocessing/pool.py\", line 44, in mapstar\n",
      "    return list(map(*args))\n",
      "  File \"/home/gosztolai/anaconda3/lib/python3.7/site-packages/ot/lp/__init__.py\", line 229, in f\n",
      "    G, cost, u, v, result_code = emd_c(a, b, M, numItermax)\n",
      "  File \"/home/gosztolai/anaconda3/lib/python3.7/multiprocessing/process.py\", line 99, in run\n",
      "    self._target(*self._args, **self._kwargs)\n",
      "  File \"/home/gosztolai/anaconda3/lib/python3.7/site-packages/ot/lp/__init__.py\", line 229, in f\n",
      "    G, cost, u, v, result_code = emd_c(a, b, M, numItermax)\n",
      "  File \"/home/gosztolai/anaconda3/lib/python3.7/site-packages/ot/lp/__init__.py\", line 234, in emd2\n",
      "    return f(b)\n",
      "  File \"/home/gosztolai/anaconda3/lib/python3.7/multiprocessing/pool.py\", line 121, in worker\n",
      "    result = (True, func(*args, **kwds))\n",
      "KeyboardInterrupt\n",
      "  File \"/home/gosztolai/anaconda3/lib/python3.7/multiprocessing/pool.py\", line 44, in mapstar\n",
      "    return list(map(*args))\n",
      "KeyboardInterrupt\n",
      "  File \"/home/gosztolai/anaconda3/lib/python3.7/multiprocessing/pool.py\", line 44, in mapstar\n",
      "    return list(map(*args))\n",
      "KeyboardInterrupt\n",
      "  File \"/home/gosztolai/anaconda3/lib/python3.7/multiprocessing/pool.py\", line 44, in mapstar\n",
      "    return list(map(*args))\n",
      "  File \"/home/gosztolai/anaconda3/lib/python3.7/multiprocessing/pool.py\", line 121, in worker\n",
      "    result = (True, func(*args, **kwds))\n",
      "  File \"/home/gosztolai/anaconda3/lib/python3.7/multiprocessing/pool.py\", line 44, in mapstar\n",
      "    return list(map(*args))\n",
      "  File \"/home/gosztolai/Dropbox/github/geometric_clustering/geocluster/curvature.py\", line 51, in K_ij\n",
      "    W = ot.emd2(mx, my, dNxNy)\n",
      "  File \"/home/gosztolai/Dropbox/github/geometric_clustering/geocluster/curvature.py\", line 38, in K_ij\n",
      "    dNxNy = dist[np.ix_(Nx, Ny)]\n",
      "  File \"/home/gosztolai/Dropbox/github/geometric_clustering/geocluster/curvature.py\", line 38, in K_ij\n",
      "    dNxNy = dist[np.ix_(Nx, Ny)]\n",
      "  File \"/home/gosztolai/anaconda3/lib/python3.7/site-packages/ot/lp/__init__.py\", line 234, in emd2\n",
      "    return f(b)\n",
      "KeyboardInterrupt\n",
      "KeyboardInterrupt\n",
      "  File \"/home/gosztolai/anaconda3/lib/python3.7/site-packages/ot/lp/__init__.py\", line 229, in f\n",
      "    G, cost, u, v, result_code = emd_c(a, b, M, numItermax)\n",
      "  File \"/home/gosztolai/anaconda3/lib/python3.7/site-packages/ot/lp/__init__.py\", line 229, in f\n",
      "    G, cost, u, v, result_code = emd_c(a, b, M, numItermax)\n",
      "  File \"/home/gosztolai/anaconda3/lib/python3.7/multiprocessing/process.py\", line 99, in run\n",
      "    self._target(*self._args, **self._kwargs)\n",
      "KeyboardInterrupt\n",
      "  File \"/home/gosztolai/Dropbox/github/geometric_clustering/geocluster/curvature.py\", line 51, in K_ij\n",
      "    W = ot.emd2(mx, my, dNxNy)\n",
      "  File \"/home/gosztolai/anaconda3/lib/python3.7/multiprocessing/pool.py\", line 121, in worker\n",
      "    result = (True, func(*args, **kwds))\n",
      "  File \"/home/gosztolai/anaconda3/lib/python3.7/multiprocessing/pool.py\", line 44, in mapstar\n",
      "    return list(map(*args))\n",
      "  File \"/home/gosztolai/Dropbox/github/geometric_clustering/geocluster/curvature.py\", line 51, in K_ij\n",
      "    W = ot.emd2(mx, my, dNxNy)\n"
     ]
    },
    {
     "ename": "KeyboardInterrupt",
     "evalue": "",
     "output_type": "error",
     "traceback": [
      "\u001b[0;31m---------------------------------------------------------------------------\u001b[0m",
      "\u001b[0;31mKeyboardInterrupt\u001b[0m                         Traceback (most recent call last)",
      "\u001b[0;32m~/Dropbox/github/geometric_clustering/geocluster/geocluster.py\u001b[0m in \u001b[0;36mcompute_OR_curvatures\u001b[0;34m(self, with_weights, GPU, workers, cutoff, lamb, save)\u001b[0m\n\u001b[1;32m     60\u001b[0m                 \u001b[0;32mwith\u001b[0m \u001b[0mPool\u001b[0m\u001b[0;34m(\u001b[0m\u001b[0mprocesses\u001b[0m \u001b[0;34m=\u001b[0m \u001b[0mworkers\u001b[0m\u001b[0;34m)\u001b[0m \u001b[0;32mas\u001b[0m \u001b[0mp_kappa\u001b[0m\u001b[0;34m:\u001b[0m\u001b[0;34m\u001b[0m\u001b[0;34m\u001b[0m\u001b[0m\n\u001b[0;32m---> 61\u001b[0;31m                     \u001b[0mself\u001b[0m\u001b[0;34m.\u001b[0m\u001b[0mKappa\u001b[0m\u001b[0;34m[\u001b[0m\u001b[0;34m:\u001b[0m\u001b[0;34m,\u001b[0m \u001b[0mit\u001b[0m\u001b[0;34m]\u001b[0m \u001b[0;34m=\u001b[0m \u001b[0mp_kappa\u001b[0m\u001b[0;34m.\u001b[0m\u001b[0mmap_async\u001b[0m\u001b[0;34m(\u001b[0m\u001b[0mpartial\u001b[0m\u001b[0;34m(\u001b[0m\u001b[0mK_ij\u001b[0m\u001b[0;34m,\u001b[0m \u001b[0mmxs\u001b[0m\u001b[0;34m,\u001b[0m \u001b[0mdist\u001b[0m\u001b[0;34m,\u001b[0m \u001b[0mlamb\u001b[0m\u001b[0;34m,\u001b[0m \u001b[0mcutoff\u001b[0m\u001b[0;34m,\u001b[0m  \u001b[0mwith_weights\u001b[0m\u001b[0;34m,\u001b[0m \u001b[0mlist\u001b[0m\u001b[0;34m(\u001b[0m\u001b[0mself\u001b[0m\u001b[0;34m.\u001b[0m\u001b[0mG\u001b[0m\u001b[0;34m.\u001b[0m\u001b[0medges\u001b[0m\u001b[0;34m(\u001b[0m\u001b[0;34m)\u001b[0m\u001b[0;34m)\u001b[0m\u001b[0;34m)\u001b[0m\u001b[0;34m,\u001b[0m \u001b[0mrange\u001b[0m\u001b[0;34m(\u001b[0m\u001b[0mself\u001b[0m\u001b[0;34m.\u001b[0m\u001b[0me\u001b[0m\u001b[0;34m)\u001b[0m\u001b[0;34m)\u001b[0m\u001b[0;34m.\u001b[0m\u001b[0mget\u001b[0m\u001b[0;34m(\u001b[0m\u001b[0;34m)\u001b[0m\u001b[0;34m\u001b[0m\u001b[0;34m\u001b[0m\u001b[0m\n\u001b[0m\u001b[1;32m     62\u001b[0m             \u001b[0;32melse\u001b[0m\u001b[0;34m:\u001b[0m\u001b[0;34m\u001b[0m\u001b[0;34m\u001b[0m\u001b[0m\n",
      "\u001b[0;32m~/anaconda3/lib/python3.7/multiprocessing/pool.py\u001b[0m in \u001b[0;36mget\u001b[0;34m(self, timeout)\u001b[0m\n\u001b[1;32m    650\u001b[0m     \u001b[0;32mdef\u001b[0m \u001b[0mget\u001b[0m\u001b[0;34m(\u001b[0m\u001b[0mself\u001b[0m\u001b[0;34m,\u001b[0m \u001b[0mtimeout\u001b[0m\u001b[0;34m=\u001b[0m\u001b[0;32mNone\u001b[0m\u001b[0;34m)\u001b[0m\u001b[0;34m:\u001b[0m\u001b[0;34m\u001b[0m\u001b[0;34m\u001b[0m\u001b[0m\n\u001b[0;32m--> 651\u001b[0;31m         \u001b[0mself\u001b[0m\u001b[0;34m.\u001b[0m\u001b[0mwait\u001b[0m\u001b[0;34m(\u001b[0m\u001b[0mtimeout\u001b[0m\u001b[0;34m)\u001b[0m\u001b[0;34m\u001b[0m\u001b[0;34m\u001b[0m\u001b[0m\n\u001b[0m\u001b[1;32m    652\u001b[0m         \u001b[0;32mif\u001b[0m \u001b[0;32mnot\u001b[0m \u001b[0mself\u001b[0m\u001b[0;34m.\u001b[0m\u001b[0mready\u001b[0m\u001b[0;34m(\u001b[0m\u001b[0;34m)\u001b[0m\u001b[0;34m:\u001b[0m\u001b[0;34m\u001b[0m\u001b[0;34m\u001b[0m\u001b[0m\n",
      "\u001b[0;32m~/anaconda3/lib/python3.7/multiprocessing/pool.py\u001b[0m in \u001b[0;36mwait\u001b[0;34m(self, timeout)\u001b[0m\n\u001b[1;32m    647\u001b[0m     \u001b[0;32mdef\u001b[0m \u001b[0mwait\u001b[0m\u001b[0;34m(\u001b[0m\u001b[0mself\u001b[0m\u001b[0;34m,\u001b[0m \u001b[0mtimeout\u001b[0m\u001b[0;34m=\u001b[0m\u001b[0;32mNone\u001b[0m\u001b[0;34m)\u001b[0m\u001b[0;34m:\u001b[0m\u001b[0;34m\u001b[0m\u001b[0;34m\u001b[0m\u001b[0m\n\u001b[0;32m--> 648\u001b[0;31m         \u001b[0mself\u001b[0m\u001b[0;34m.\u001b[0m\u001b[0m_event\u001b[0m\u001b[0;34m.\u001b[0m\u001b[0mwait\u001b[0m\u001b[0;34m(\u001b[0m\u001b[0mtimeout\u001b[0m\u001b[0;34m)\u001b[0m\u001b[0;34m\u001b[0m\u001b[0;34m\u001b[0m\u001b[0m\n\u001b[0m\u001b[1;32m    649\u001b[0m \u001b[0;34m\u001b[0m\u001b[0m\n",
      "\u001b[0;32m~/anaconda3/lib/python3.7/threading.py\u001b[0m in \u001b[0;36mwait\u001b[0;34m(self, timeout)\u001b[0m\n\u001b[1;32m    551\u001b[0m             \u001b[0;32mif\u001b[0m \u001b[0;32mnot\u001b[0m \u001b[0msignaled\u001b[0m\u001b[0;34m:\u001b[0m\u001b[0;34m\u001b[0m\u001b[0;34m\u001b[0m\u001b[0m\n\u001b[0;32m--> 552\u001b[0;31m                 \u001b[0msignaled\u001b[0m \u001b[0;34m=\u001b[0m \u001b[0mself\u001b[0m\u001b[0;34m.\u001b[0m\u001b[0m_cond\u001b[0m\u001b[0;34m.\u001b[0m\u001b[0mwait\u001b[0m\u001b[0;34m(\u001b[0m\u001b[0mtimeout\u001b[0m\u001b[0;34m)\u001b[0m\u001b[0;34m\u001b[0m\u001b[0;34m\u001b[0m\u001b[0m\n\u001b[0m\u001b[1;32m    553\u001b[0m             \u001b[0;32mreturn\u001b[0m \u001b[0msignaled\u001b[0m\u001b[0;34m\u001b[0m\u001b[0;34m\u001b[0m\u001b[0m\n",
      "\u001b[0;32m~/anaconda3/lib/python3.7/threading.py\u001b[0m in \u001b[0;36mwait\u001b[0;34m(self, timeout)\u001b[0m\n\u001b[1;32m    295\u001b[0m             \u001b[0;32mif\u001b[0m \u001b[0mtimeout\u001b[0m \u001b[0;32mis\u001b[0m \u001b[0;32mNone\u001b[0m\u001b[0;34m:\u001b[0m\u001b[0;34m\u001b[0m\u001b[0;34m\u001b[0m\u001b[0m\n\u001b[0;32m--> 296\u001b[0;31m                 \u001b[0mwaiter\u001b[0m\u001b[0;34m.\u001b[0m\u001b[0macquire\u001b[0m\u001b[0;34m(\u001b[0m\u001b[0;34m)\u001b[0m\u001b[0;34m\u001b[0m\u001b[0;34m\u001b[0m\u001b[0m\n\u001b[0m\u001b[1;32m    297\u001b[0m                 \u001b[0mgotit\u001b[0m \u001b[0;34m=\u001b[0m \u001b[0;32mTrue\u001b[0m\u001b[0;34m\u001b[0m\u001b[0;34m\u001b[0m\u001b[0m\n",
      "\u001b[0;31mKeyboardInterrupt\u001b[0m: ",
      "\nDuring handling of the above exception, another exception occurred:\n",
      "\u001b[0;31mKeyboardInterrupt\u001b[0m                         Traceback (most recent call last)",
      "\u001b[0;32m<ipython-input-44-b8e1ec930396>\u001b[0m in \u001b[0;36m<module>\u001b[0;34m\u001b[0m\n\u001b[1;32m     19\u001b[0m \u001b[0;34m\u001b[0m\u001b[0m\n\u001b[1;32m     20\u001b[0m     \u001b[0;31m#Compute the OR curvatures are all the times\u001b[0m\u001b[0;34m\u001b[0m\u001b[0;34m\u001b[0m\u001b[0;34m\u001b[0m\u001b[0m\n\u001b[0;32m---> 21\u001b[0;31m     \u001b[0mgc\u001b[0m\u001b[0;34m.\u001b[0m\u001b[0mcompute_OR_curvatures\u001b[0m\u001b[0;34m(\u001b[0m\u001b[0msave\u001b[0m\u001b[0;34m=\u001b[0m\u001b[0;32mFalse\u001b[0m\u001b[0;34m,\u001b[0m \u001b[0mworkers\u001b[0m\u001b[0;34m=\u001b[0m\u001b[0;36m16\u001b[0m\u001b[0;34m)\u001b[0m\u001b[0;34m\u001b[0m\u001b[0;34m\u001b[0m\u001b[0m\n\u001b[0m\u001b[1;32m     22\u001b[0m     \u001b[0mkappas_3\u001b[0m\u001b[0;34m[\u001b[0m\u001b[0mi\u001b[0m\u001b[0;34m]\u001b[0m \u001b[0;34m=\u001b[0m \u001b[0mgc\u001b[0m\u001b[0;34m.\u001b[0m\u001b[0mKappa\u001b[0m\u001b[0;34m\u001b[0m\u001b[0;34m\u001b[0m\u001b[0m\n\u001b[1;32m     23\u001b[0m \u001b[0;34m\u001b[0m\u001b[0m\n",
      "\u001b[0;32m~/Dropbox/github/geometric_clustering/geocluster/geocluster.py\u001b[0m in \u001b[0;36mcompute_OR_curvatures\u001b[0;34m(self, with_weights, GPU, workers, cutoff, lamb, save)\u001b[0m\n\u001b[1;32m     59\u001b[0m             \u001b[0;32mif\u001b[0m \u001b[0;32mnot\u001b[0m \u001b[0mGPU\u001b[0m\u001b[0;34m:\u001b[0m\u001b[0;34m\u001b[0m\u001b[0;34m\u001b[0m\u001b[0m\n\u001b[1;32m     60\u001b[0m                 \u001b[0;32mwith\u001b[0m \u001b[0mPool\u001b[0m\u001b[0;34m(\u001b[0m\u001b[0mprocesses\u001b[0m \u001b[0;34m=\u001b[0m \u001b[0mworkers\u001b[0m\u001b[0;34m)\u001b[0m \u001b[0;32mas\u001b[0m \u001b[0mp_kappa\u001b[0m\u001b[0;34m:\u001b[0m\u001b[0;34m\u001b[0m\u001b[0;34m\u001b[0m\u001b[0m\n\u001b[0;32m---> 61\u001b[0;31m                     \u001b[0mself\u001b[0m\u001b[0;34m.\u001b[0m\u001b[0mKappa\u001b[0m\u001b[0;34m[\u001b[0m\u001b[0;34m:\u001b[0m\u001b[0;34m,\u001b[0m \u001b[0mit\u001b[0m\u001b[0;34m]\u001b[0m \u001b[0;34m=\u001b[0m \u001b[0mp_kappa\u001b[0m\u001b[0;34m.\u001b[0m\u001b[0mmap_async\u001b[0m\u001b[0;34m(\u001b[0m\u001b[0mpartial\u001b[0m\u001b[0;34m(\u001b[0m\u001b[0mK_ij\u001b[0m\u001b[0;34m,\u001b[0m \u001b[0mmxs\u001b[0m\u001b[0;34m,\u001b[0m \u001b[0mdist\u001b[0m\u001b[0;34m,\u001b[0m \u001b[0mlamb\u001b[0m\u001b[0;34m,\u001b[0m \u001b[0mcutoff\u001b[0m\u001b[0;34m,\u001b[0m  \u001b[0mwith_weights\u001b[0m\u001b[0;34m,\u001b[0m \u001b[0mlist\u001b[0m\u001b[0;34m(\u001b[0m\u001b[0mself\u001b[0m\u001b[0;34m.\u001b[0m\u001b[0mG\u001b[0m\u001b[0;34m.\u001b[0m\u001b[0medges\u001b[0m\u001b[0;34m(\u001b[0m\u001b[0;34m)\u001b[0m\u001b[0;34m)\u001b[0m\u001b[0;34m)\u001b[0m\u001b[0;34m,\u001b[0m \u001b[0mrange\u001b[0m\u001b[0;34m(\u001b[0m\u001b[0mself\u001b[0m\u001b[0;34m.\u001b[0m\u001b[0me\u001b[0m\u001b[0;34m)\u001b[0m\u001b[0;34m)\u001b[0m\u001b[0;34m.\u001b[0m\u001b[0mget\u001b[0m\u001b[0;34m(\u001b[0m\u001b[0;34m)\u001b[0m\u001b[0;34m\u001b[0m\u001b[0;34m\u001b[0m\u001b[0m\n\u001b[0m\u001b[1;32m     62\u001b[0m             \u001b[0;32melse\u001b[0m\u001b[0;34m:\u001b[0m\u001b[0;34m\u001b[0m\u001b[0;34m\u001b[0m\u001b[0m\n\u001b[1;32m     63\u001b[0m                 \u001b[0;32mfor\u001b[0m \u001b[0mi\u001b[0m \u001b[0;32min\u001b[0m \u001b[0mrange\u001b[0m\u001b[0;34m(\u001b[0m\u001b[0mlen\u001b[0m\u001b[0;34m(\u001b[0m\u001b[0mmxs\u001b[0m\u001b[0;34m)\u001b[0m\u001b[0;34m)\u001b[0m\u001b[0;34m:\u001b[0m\u001b[0;34m\u001b[0m\u001b[0;34m\u001b[0m\u001b[0m\n",
      "\u001b[0;32m~/anaconda3/lib/python3.7/multiprocessing/pool.py\u001b[0m in \u001b[0;36m__exit__\u001b[0;34m(self, exc_type, exc_val, exc_tb)\u001b[0m\n\u001b[1;32m    621\u001b[0m \u001b[0;34m\u001b[0m\u001b[0m\n\u001b[1;32m    622\u001b[0m     \u001b[0;32mdef\u001b[0m \u001b[0m__exit__\u001b[0m\u001b[0;34m(\u001b[0m\u001b[0mself\u001b[0m\u001b[0;34m,\u001b[0m \u001b[0mexc_type\u001b[0m\u001b[0;34m,\u001b[0m \u001b[0mexc_val\u001b[0m\u001b[0;34m,\u001b[0m \u001b[0mexc_tb\u001b[0m\u001b[0;34m)\u001b[0m\u001b[0;34m:\u001b[0m\u001b[0;34m\u001b[0m\u001b[0;34m\u001b[0m\u001b[0m\n\u001b[0;32m--> 623\u001b[0;31m         \u001b[0mself\u001b[0m\u001b[0;34m.\u001b[0m\u001b[0mterminate\u001b[0m\u001b[0;34m(\u001b[0m\u001b[0;34m)\u001b[0m\u001b[0;34m\u001b[0m\u001b[0;34m\u001b[0m\u001b[0m\n\u001b[0m\u001b[1;32m    624\u001b[0m \u001b[0;34m\u001b[0m\u001b[0m\n\u001b[1;32m    625\u001b[0m \u001b[0;31m#\u001b[0m\u001b[0;34m\u001b[0m\u001b[0;34m\u001b[0m\u001b[0;34m\u001b[0m\u001b[0m\n",
      "\u001b[0;32m~/anaconda3/lib/python3.7/multiprocessing/pool.py\u001b[0m in \u001b[0;36mterminate\u001b[0;34m(self)\u001b[0m\n\u001b[1;32m    546\u001b[0m         \u001b[0mself\u001b[0m\u001b[0;34m.\u001b[0m\u001b[0m_state\u001b[0m \u001b[0;34m=\u001b[0m \u001b[0mTERMINATE\u001b[0m\u001b[0;34m\u001b[0m\u001b[0;34m\u001b[0m\u001b[0m\n\u001b[1;32m    547\u001b[0m         \u001b[0mself\u001b[0m\u001b[0;34m.\u001b[0m\u001b[0m_worker_handler\u001b[0m\u001b[0;34m.\u001b[0m\u001b[0m_state\u001b[0m \u001b[0;34m=\u001b[0m \u001b[0mTERMINATE\u001b[0m\u001b[0;34m\u001b[0m\u001b[0;34m\u001b[0m\u001b[0m\n\u001b[0;32m--> 548\u001b[0;31m         \u001b[0mself\u001b[0m\u001b[0;34m.\u001b[0m\u001b[0m_terminate\u001b[0m\u001b[0;34m(\u001b[0m\u001b[0;34m)\u001b[0m\u001b[0;34m\u001b[0m\u001b[0;34m\u001b[0m\u001b[0m\n\u001b[0m\u001b[1;32m    549\u001b[0m \u001b[0;34m\u001b[0m\u001b[0m\n\u001b[1;32m    550\u001b[0m     \u001b[0;32mdef\u001b[0m \u001b[0mjoin\u001b[0m\u001b[0;34m(\u001b[0m\u001b[0mself\u001b[0m\u001b[0;34m)\u001b[0m\u001b[0;34m:\u001b[0m\u001b[0;34m\u001b[0m\u001b[0;34m\u001b[0m\u001b[0m\n",
      "\u001b[0;32m~/anaconda3/lib/python3.7/multiprocessing/util.py\u001b[0m in \u001b[0;36m__call__\u001b[0;34m(self, wr, _finalizer_registry, sub_debug, getpid)\u001b[0m\n\u001b[1;32m    199\u001b[0m                 sub_debug('finalizer calling %s with args %s and kwargs %s',\n\u001b[1;32m    200\u001b[0m                           self._callback, self._args, self._kwargs)\n\u001b[0;32m--> 201\u001b[0;31m                 \u001b[0mres\u001b[0m \u001b[0;34m=\u001b[0m \u001b[0mself\u001b[0m\u001b[0;34m.\u001b[0m\u001b[0m_callback\u001b[0m\u001b[0;34m(\u001b[0m\u001b[0;34m*\u001b[0m\u001b[0mself\u001b[0m\u001b[0;34m.\u001b[0m\u001b[0m_args\u001b[0m\u001b[0;34m,\u001b[0m \u001b[0;34m**\u001b[0m\u001b[0mself\u001b[0m\u001b[0;34m.\u001b[0m\u001b[0m_kwargs\u001b[0m\u001b[0;34m)\u001b[0m\u001b[0;34m\u001b[0m\u001b[0;34m\u001b[0m\u001b[0m\n\u001b[0m\u001b[1;32m    202\u001b[0m             \u001b[0mself\u001b[0m\u001b[0;34m.\u001b[0m\u001b[0m_weakref\u001b[0m \u001b[0;34m=\u001b[0m \u001b[0mself\u001b[0m\u001b[0;34m.\u001b[0m\u001b[0m_callback\u001b[0m \u001b[0;34m=\u001b[0m \u001b[0mself\u001b[0m\u001b[0;34m.\u001b[0m\u001b[0m_args\u001b[0m \u001b[0;34m=\u001b[0m\u001b[0;31m \u001b[0m\u001b[0;31m\\\u001b[0m\u001b[0;34m\u001b[0m\u001b[0;34m\u001b[0m\u001b[0m\n\u001b[1;32m    203\u001b[0m                             \u001b[0mself\u001b[0m\u001b[0;34m.\u001b[0m\u001b[0m_kwargs\u001b[0m \u001b[0;34m=\u001b[0m \u001b[0mself\u001b[0m\u001b[0;34m.\u001b[0m\u001b[0m_key\u001b[0m \u001b[0;34m=\u001b[0m \u001b[0;32mNone\u001b[0m\u001b[0;34m\u001b[0m\u001b[0;34m\u001b[0m\u001b[0m\n",
      "\u001b[0;32m~/anaconda3/lib/python3.7/multiprocessing/pool.py\u001b[0m in \u001b[0;36m_terminate_pool\u001b[0;34m(cls, taskqueue, inqueue, outqueue, pool, worker_handler, task_handler, result_handler, cache)\u001b[0m\n\u001b[1;32m    603\u001b[0m         \u001b[0mutil\u001b[0m\u001b[0;34m.\u001b[0m\u001b[0mdebug\u001b[0m\u001b[0;34m(\u001b[0m\u001b[0;34m'joining task handler'\u001b[0m\u001b[0;34m)\u001b[0m\u001b[0;34m\u001b[0m\u001b[0;34m\u001b[0m\u001b[0m\n\u001b[1;32m    604\u001b[0m         \u001b[0;32mif\u001b[0m \u001b[0mthreading\u001b[0m\u001b[0;34m.\u001b[0m\u001b[0mcurrent_thread\u001b[0m\u001b[0;34m(\u001b[0m\u001b[0;34m)\u001b[0m \u001b[0;32mis\u001b[0m \u001b[0;32mnot\u001b[0m \u001b[0mtask_handler\u001b[0m\u001b[0;34m:\u001b[0m\u001b[0;34m\u001b[0m\u001b[0;34m\u001b[0m\u001b[0m\n\u001b[0;32m--> 605\u001b[0;31m             \u001b[0mtask_handler\u001b[0m\u001b[0;34m.\u001b[0m\u001b[0mjoin\u001b[0m\u001b[0;34m(\u001b[0m\u001b[0;34m)\u001b[0m\u001b[0;34m\u001b[0m\u001b[0;34m\u001b[0m\u001b[0m\n\u001b[0m\u001b[1;32m    606\u001b[0m \u001b[0;34m\u001b[0m\u001b[0m\n\u001b[1;32m    607\u001b[0m         \u001b[0mutil\u001b[0m\u001b[0;34m.\u001b[0m\u001b[0mdebug\u001b[0m\u001b[0;34m(\u001b[0m\u001b[0;34m'joining result handler'\u001b[0m\u001b[0;34m)\u001b[0m\u001b[0;34m\u001b[0m\u001b[0;34m\u001b[0m\u001b[0m\n",
      "\u001b[0;32m~/anaconda3/lib/python3.7/threading.py\u001b[0m in \u001b[0;36mjoin\u001b[0;34m(self, timeout)\u001b[0m\n\u001b[1;32m   1042\u001b[0m \u001b[0;34m\u001b[0m\u001b[0m\n\u001b[1;32m   1043\u001b[0m         \u001b[0;32mif\u001b[0m \u001b[0mtimeout\u001b[0m \u001b[0;32mis\u001b[0m \u001b[0;32mNone\u001b[0m\u001b[0;34m:\u001b[0m\u001b[0;34m\u001b[0m\u001b[0;34m\u001b[0m\u001b[0m\n\u001b[0;32m-> 1044\u001b[0;31m             \u001b[0mself\u001b[0m\u001b[0;34m.\u001b[0m\u001b[0m_wait_for_tstate_lock\u001b[0m\u001b[0;34m(\u001b[0m\u001b[0;34m)\u001b[0m\u001b[0;34m\u001b[0m\u001b[0;34m\u001b[0m\u001b[0m\n\u001b[0m\u001b[1;32m   1045\u001b[0m         \u001b[0;32melse\u001b[0m\u001b[0;34m:\u001b[0m\u001b[0;34m\u001b[0m\u001b[0;34m\u001b[0m\u001b[0m\n\u001b[1;32m   1046\u001b[0m             \u001b[0;31m# the behavior of a negative timeout isn't documented, but\u001b[0m\u001b[0;34m\u001b[0m\u001b[0;34m\u001b[0m\u001b[0;34m\u001b[0m\u001b[0m\n",
      "\u001b[0;32m~/anaconda3/lib/python3.7/threading.py\u001b[0m in \u001b[0;36m_wait_for_tstate_lock\u001b[0;34m(self, block, timeout)\u001b[0m\n\u001b[1;32m   1058\u001b[0m         \u001b[0;32mif\u001b[0m \u001b[0mlock\u001b[0m \u001b[0;32mis\u001b[0m \u001b[0;32mNone\u001b[0m\u001b[0;34m:\u001b[0m  \u001b[0;31m# already determined that the C code is done\u001b[0m\u001b[0;34m\u001b[0m\u001b[0;34m\u001b[0m\u001b[0m\n\u001b[1;32m   1059\u001b[0m             \u001b[0;32massert\u001b[0m \u001b[0mself\u001b[0m\u001b[0;34m.\u001b[0m\u001b[0m_is_stopped\u001b[0m\u001b[0;34m\u001b[0m\u001b[0;34m\u001b[0m\u001b[0m\n\u001b[0;32m-> 1060\u001b[0;31m         \u001b[0;32melif\u001b[0m \u001b[0mlock\u001b[0m\u001b[0;34m.\u001b[0m\u001b[0macquire\u001b[0m\u001b[0;34m(\u001b[0m\u001b[0mblock\u001b[0m\u001b[0;34m,\u001b[0m \u001b[0mtimeout\u001b[0m\u001b[0;34m)\u001b[0m\u001b[0;34m:\u001b[0m\u001b[0;34m\u001b[0m\u001b[0;34m\u001b[0m\u001b[0m\n\u001b[0m\u001b[1;32m   1061\u001b[0m             \u001b[0mlock\u001b[0m\u001b[0;34m.\u001b[0m\u001b[0mrelease\u001b[0m\u001b[0;34m(\u001b[0m\u001b[0;34m)\u001b[0m\u001b[0;34m\u001b[0m\u001b[0;34m\u001b[0m\u001b[0m\n\u001b[1;32m   1062\u001b[0m             \u001b[0mself\u001b[0m\u001b[0;34m.\u001b[0m\u001b[0m_stop\u001b[0m\u001b[0;34m(\u001b[0m\u001b[0;34m)\u001b[0m\u001b[0;34m\u001b[0m\u001b[0;34m\u001b[0m\u001b[0m\n",
      "\u001b[0;31mKeyboardInterrupt\u001b[0m: "
     ]
    }
   ],
   "source": [
    "#Generate graph \n",
    "params_3 = np.logspace(-1,2,10)\n",
    "\n",
    "#kappas_3 = {}\n",
    "for i in range(4,len(params_3)):\n",
    "    graph,_ = generate_barbell({'m1': 120, 'm2': 0})\n",
    "    A = nx.adjacency_matrix(graph)\n",
    "    A[119,120] = 1/params_3[i]\n",
    "    A[120,119] = 1/params_3[i]\n",
    "    graph = nx.Graph(A)\n",
    "        \n",
    "    # initialise the code with parameters and graph \n",
    "    graph.graph['name'] = 'barbell'\n",
    "    pos = nx.spring_layout(graph, weight='weight')\n",
    "    graph = assign_graph_metadata(graph, pos=pos)\n",
    "\n",
    "    # initialise the code with parameters and graph\n",
    "    gc = GeoCluster(graph, T=np.logspace(-2., 3., 20), use_spectral_gap = False, with_weights=True)\n",
    "                 \n",
    "    #Compute the OR curvatures are all the times\n",
    "    gc.compute_OR_curvatures(save=False, workers=16)\n",
    "    kappas_3[i] = gc.Kappa\n",
    "    \n",
    "    #Save results for later analysis\n",
    "    gc.plot_edge_curvature(filename = 'barbell_3_' + str(i), log=False)\n",
    "    gc.plot_graph_snapshots(filename = 'barbell_3_' + str(i), edge_width=1, node_size=10)"
   ]
  },
  {
   "cell_type": "code",
   "execution_count": 41,
   "metadata": {},
   "outputs": [
    {
     "data": {
      "image/png": "[encoded data removed]",
      "text/plain": [
       "<Figure size 432x288 with 1 Axes>"
      ]
     },
     "metadata": {
      "needs_background": "light"
     },
     "output_type": "display_data"
    }
   ],
   "source": [
    "min_kappa_3 = [kappas_3[i].min() for i in range(len(kappas_3))]\n",
    "w = [params_3[i] for i in range(len(kappas_3))]\n",
    "plt.plot(w, min_kappa_3)\n",
    "plt.xlabel('Weight of bottleneck')\n",
    "plt.ylabel(r'$\\min\\, \\kappa_{ij}$')\n",
    "plt.savefig('vary_m2.svg')\n",
    "plt.show()"
   ]
  },
  {
   "cell_type": "code",
   "execution_count": 42,
   "metadata": {},
   "outputs": [
    {
     "data": {
      "text/plain": [
       "array([  0.1       ,   0.21544347,   0.46415888,   1.        ,\n",
       "         2.15443469,   4.64158883,  10.        ,  21.5443469 ,\n",
       "        46.41588834, 100.        ])"
      ]
     },
     "execution_count": 42,
     "metadata": {},
     "output_type": "execute_result"
    }
   ],
   "source": []
  },
  {
   "cell_type": "code",
   "execution_count": null,
   "metadata": {},
   "outputs": [],
   "source": []
  }
 ],
 "metadata": {
  "kernelspec": {
   "display_name": "Python 3",
   "language": "python",
   "name": "python3"
  },
  "language_info": {
   "codemirror_mode": {
    "name": "ipython",
    "version": 3
   },
   "file_extension": ".py",
   "mimetype": "text/x-python",
   "name": "python",
   "nbconvert_exporter": "python",
   "pygments_lexer": "ipython3",
   "version": "3.7.6"
  }
 },
 "nbformat": 4,
 "nbformat_minor": 4
}
