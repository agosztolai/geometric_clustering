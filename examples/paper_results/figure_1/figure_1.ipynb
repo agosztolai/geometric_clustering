{
 "cells": [
  {
   "cell_type": "code",
   "execution_count": null,
   "metadata": {
    "scrolled": true
   },
   "outputs": [],
   "source": [
    "%load_ext autoreload\n",
    "%autoreload 2\n",
    "%matplotlib notebook\n",
    "import numpy as np\n",
    "import geocluster as gc\n",
    "from graph_library import generate_SBM, assign_graph_metadata\n",
    "import networkx as nx\n",
    "import scipy as sc\n",
    "import pylab as plt\n",
    "import matplotlib.gridspec as gridspec\n",
    "from matplotlib.animation import FFMpegWriter\n",
    "from geocluster import plotting\n",
    "import matplotlib.colors as col"
   ]
  },
  {
   "cell_type": "markdown",
   "metadata": {},
   "source": [
    "# Generate graph"
   ]
  },
  {
   "cell_type": "code",
   "execution_count": null,
   "metadata": {},
   "outputs": [],
   "source": [
    "graph, pos = generate_SBM(params = {'n':[30,30,30,30],\n",
    "                                    'p':[[0.8, 0.1, 0.02, 0.02],\n",
    "                                        [0.1, 0.8, 0.02, 0.02],\n",
    "                                        [0.02, 0.02, 0.8, 0.1],\n",
    "                                        [0.02, 0.02, 0.1, 0.8]],\n",
    "                                    'seed': 1})        \n",
    "graph = nx.convert_node_labels_to_integers(graph)\n",
    "graph = assign_graph_metadata(graph, pos=pos)"
   ]
  },
  {
   "cell_type": "markdown",
   "metadata": {},
   "source": [
    "# Plot graph and geodesics between two communities"
   ]
  },
  {
   "cell_type": "code",
   "execution_count": null,
   "metadata": {
    "scrolled": false
   },
   "outputs": [],
   "source": [
    "plt.figure(figsize=(5,5))\n",
    "nx.draw_networkx_nodes(graph,pos,node_size=80,node_color='k')\n",
    "nx.draw_networkx_edges(graph,pos,edge_color='k',width=1,alpha=0.3)    \n",
    "for i in range(30):\n",
    "    path = nx.shortest_path(graph,source=i,target=30+i)\n",
    "    path_edges = list(zip(path,path[1:]))\n",
    "    nx.draw_networkx_nodes(graph,pos,nodelist=path,node_size=80,node_color='g')\n",
    "    nx.draw_networkx_edges(graph,pos,edgelist=path_edges,edge_color='g',width=2)  \n",
    " \n",
    "plt.box(on=None)\n",
    "#plt.savefig('geodesics.svg')    "
   ]
  },
  {
   "cell_type": "markdown",
   "metadata": {},
   "source": [
    "# Compute curvatures"
   ]
  },
  {
   "cell_type": "code",
   "execution_count": null,
   "metadata": {
    "scrolled": true
   },
   "outputs": [],
   "source": [
    "times = np.logspace(-2, 2, 50)\n",
    "params = {'n_workers': 1, 'GPU': False, 'lambda': 0, \n",
    "          'with_weights': False, 'cutoff': 1.-1e-8, 'use_spectral_gap': False}\n",
    "kappas = gc.compute_curvatures(graph, times, params, disable=True)"
   ]
  },
  {
   "cell_type": "code",
   "execution_count": null,
   "metadata": {},
   "outputs": [],
   "source": [
    "plotting.plot_edge_curvatures(times, kappas, figsize=(4,3))\n",
    "plt.xlabel('time')\n",
    "plt.ylabel(r'$\\kappa$')\n",
    "\n",
    "plt.axvline(times[28])\n",
    "plt.axvline(times[34])\n",
    "#plt.savefig('curvature_trajectories.svg')"
   ]
  },
  {
   "cell_type": "code",
   "execution_count": null,
   "metadata": {},
   "outputs": [],
   "source": [
    "plt.figure(figsize=(8,4))\n",
    "plt.subplot(121)\n",
    "\n",
    "kappa = kappas[25]\n",
    "plotting.plot_graph(\n",
    "    graph,\n",
    "    edge_color=kappa,\n",
    "    node_size=20,\n",
    "    edge_width=1,\n",
    "    node_colors='k',\n",
    "    colormap=\"standard\",\n",
    "    vmin=-.5,\n",
    "    vmax=0.5,\n",
    ")\n",
    "\n",
    "plt.subplot(122)\n",
    "\n",
    "kappa = kappas[34]\n",
    "plotting.plot_graph(\n",
    "    graph,\n",
    "    edge_color=kappa,\n",
    "    node_size=20,\n",
    "    edge_width=1,\n",
    "    node_colors='k',\n",
    "    colormap=\"standard\",\n",
    "    vmin=-.5,\n",
    "    vmax=0.5,\n",
    ")\n",
    "\n",
    "#plt.savefig('curvature_on_graph.svg')"
   ]
  },
  {
   "cell_type": "markdown",
   "metadata": {},
   "source": [
    "# Compute geodesic distance matrix"
   ]
  },
  {
   "cell_type": "code",
   "execution_count": null,
   "metadata": {},
   "outputs": [],
   "source": [
    "dist = gc.curvature.compute_distance_geodesic(graph)\n",
    "\n",
    "plt.figure(figsize=(4,3.5))\n",
    "plt.imshow(dist,aspect='auto', origin='auto',cmap='Greys')\n",
    "\n",
    "plt.axvline(6, c='C0',lw=3,ls='--')\n",
    "plt.axhline(16, c='C1',lw=3,ls='--')\n",
    "\n",
    "plt.xlabel('Node id')\n",
    "plt.ylabel('Node id')\n",
    "plt.colorbar(label=r'$d_{ij}$')\n",
    "plt.axis('square')\n",
    "\n",
    "#plt.savefig('distance.svg', bbox_inches='tight')"
   ]
  },
  {
   "cell_type": "markdown",
   "metadata": {},
   "source": [
    "# Functions to compute measures and make plots"
   ]
  },
  {
   "cell_type": "code",
   "execution_count": null,
   "metadata": {},
   "outputs": [],
   "source": [
    "# compute all neighbourhood densities\n",
    "def mx_comp(graph, T, i):\n",
    "    \n",
    "    degrees = np.array([graph.degree[i] for i in graph.nodes])\n",
    "    L = nx.laplacian_matrix(graph).dot(sc.sparse.diags(1.0 / degrees))\n",
    "    \n",
    "    N = len(graph.nodes)\n",
    "\n",
    "    def delta(i, n):\n",
    "        p0 = np.zeros(n)\n",
    "        p0[i] = 1.\n",
    "        return p0\n",
    "\n",
    "    mx_all = [] \n",
    "    mx_tmp = delta(i, N) #set initial condition\n",
    "    T = [0,] + list(T) #add time 0\n",
    "    \n",
    "    for i in range(len((T))-1): \n",
    "        #compute exponential by increments (faster than from 0)\n",
    "        mx_tmp = sc.sparse.linalg.expm_multiply(-(T[i+1]-T[i])*L, mx_tmp)\n",
    "        mx_all.append(sc.sparse.lil_matrix(mx_tmp))\n",
    "\n",
    "    return mx_all\n",
    "\n",
    "\n",
    "# compute curvature for an edge ij\n",
    "def zeta_comp(mx_all, dist, it, e):\n",
    "    import ot\n",
    "    \n",
    "    i, j = e[0], e[1]\n",
    "    nt = len(mx_all[0][0])\n",
    "    K = np.zeros(nt)\n",
    "\n",
    "    Nx = np.array(mx_all[i][1][it]).flatten()\n",
    "    Ny = np.array(mx_all[j][1][it]).flatten()\n",
    "    mx = mx_all[i][0][it].toarray().flatten()\n",
    "    my = mx_all[j][0][it].toarray().flatten()\n",
    "\n",
    "    dNxNy = dist[Nx,:][:,Ny].copy(order='C')\n",
    "    zeta = ot.emd(mx, my, dNxNy) \n",
    "            \n",
    "    return zeta\n",
    "\n",
    "# plot the curvature on the graph for a given time t\n",
    "def plot_measure_graph(t, mx1, mx2, kappas, graph, pos, node_size = 100, edge_width = 1, ax=None):\n",
    "\n",
    "    edge_vmin = -np.max(abs(kappas[:,t]))\n",
    "    edge_vmax = np.max(abs(kappas[:,t]))\n",
    "              \n",
    "    vmin = 0# -np.max(abs(mx))\n",
    "    vmax = 1#np.max(abs(mx))\n",
    "    mx1 /= np.max(mx1)\n",
    "    mx2 /= np.max(mx2)\n",
    "\n",
    "    node_size1, node_size2 = mx1*node_size, mx2*node_size \n",
    "\n",
    "    from matplotlib.markers import MarkerStyle\n",
    "    ms1 = MarkerStyle('o', fillstyle = 'left')\n",
    "    ms2 = MarkerStyle('o', fillstyle = 'right')\n",
    "    node_color1 = 'C0'\n",
    "    node_color2 = 'C1'\n",
    "\n",
    "    nodes = nx.draw_networkx_nodes(graph, pos = pos, node_size = node_size1, node_color = node_color1, \n",
    "                                   vmin = vmin, vmax = vmax, cmap=plt.get_cmap('viridis'),node_shape=ms1,\n",
    "                                  ax=ax)\n",
    "    \n",
    "    nodes = nx.draw_networkx_nodes(graph, pos = pos, node_size = node_size2, node_color = node_color2, \n",
    "                                   vmin = vmin, vmax = vmax, cmap=plt.get_cmap('viridis'),node_shape=ms2,\n",
    "                                   ax=ax)\n",
    "    \n",
    "    #edges = nx.draw_networkx_edges(graph, pos = pos, width = edge_width, alpha=0.3, ax=ax)\n",
    "\n",
    "    limits = plt.axis('off') #turn axis off\n",
    "    \n",
    "    return ax\n",
    "\n",
    "\n",
    "def plot_transport_plan(zeta, mx1, mx2, ax1, ax2, ax3):       \n",
    "   \n",
    "    ax1.imshow((zeta.T), cmap='viridis', norm=col.Normalize(vmin=np.min(zeta), vmax=0.05*np.max(zeta)), aspect='auto', origin='auto')\n",
    "    ax1.set_xlabel('Node id')\n",
    "    ax1.set_ylabel('Node id')\n",
    "  \n",
    "    ax2.bar(np.arange(len(mx1)), mx1,color='C0',log=False)\n",
    "    ax2.set_xlim(-0.5,len(mx1)-0.5)\n",
    "    ax2.tick_params(\n",
    "        axis='x',          # changes apply to the x-axis\n",
    "        which='both',      # both major and minor ticks are affected\n",
    "        bottom=False,      # ticks along the bottom edge are off\n",
    "        top=False,         # ticks along the top edge are off\n",
    "        labelbottom=False)\n",
    "    ax2.set_ylabel('$p_x$')\n",
    "    ax2.set_ylim([0,0.03])\n",
    "    \n",
    "    ax3.barh(np.arange(len(mx2)),mx2,color='C1',log=False)\n",
    "    ax3.set_ylim(-0.5,len(mx2)-0.5)\n",
    "    ax3.set_xlabel('$p_y$')\n",
    "    ax3.set_xlim([0,0.03])\n",
    "\n",
    "    ax3.tick_params(\n",
    "        axis='y',          # changes apply to the x-axis\n",
    "        which='both',      # both major and minor ticks are affected\n",
    "        left=False,      # ticks along the bottom edge are off\n",
    "        top=False,         # ticks along the top edge are off\n",
    "        labelleft=False)\n",
    "\n",
    "    ax1.axvline(29.5,c='w',ls='--',lw=0.8)\n",
    "    ax1.axvline(29.5,c='w',ls='--',lw=0.8)\n",
    "    ax1.axvline(59.5,c='w',ls='--',lw=0.8)\n",
    "    ax1.axvline(59.5,c='w',ls='--',lw=0.8)\n",
    "    ax1.axvline(89.5,c='w',ls='--',lw=0.8)\n",
    "    ax1.axvline(89.5,c='w',ls='--',lw=0.8)\n",
    "    \n",
    "    ax1.axhline(29.5,c='w',ls='--',lw=0.8)\n",
    "    ax1.axhline(29.5,c='w',ls='--',lw=0.8)\n",
    "    ax1.axhline(59.5,c='w',ls='--',lw=0.8)\n",
    "    ax1.axhline(59.5,c='w',ls='--',lw=0.8)\n",
    "    ax1.axhline(89.5,c='w',ls='--',lw=0.8)\n",
    "    ax1.axhline(89.5,c='w',ls='--',lw=0.8)\n",
    "    \n",
    "    return ax1, ax2, ax3"
   ]
  },
  {
   "cell_type": "markdown",
   "metadata": {},
   "source": [
    "# Make video of diffusion evolution"
   ]
  },
  {
   "cell_type": "code",
   "execution_count": null,
   "metadata": {
    "scrolled": false
   },
   "outputs": [],
   "source": [
    "i = 1\n",
    "j = 62\n",
    "    \n",
    "mx_1 = mx_comp(graph, times, i)\n",
    "mx_2 = mx_comp(graph, times, j)\n",
    "    \n",
    "fig = plt.figure(figsize=(5,4))\n",
    "ax = plt.subplot(111)\n",
    "\n",
    "edges = nx.draw_networkx_edges(graph, pos = pos, width = 1, alpha=0.3, ax=ax)\n",
    "nx.draw_networkx_edges(graph, pos = pos, edgelist=[(i,j),], edge_color='r',width = 3,ax=ax)\n",
    "\n",
    "metadata = dict(title='Movie Test', artist='Matplotlib',comment='Movie support!')\n",
    "writer = FFMpegWriter(fps=1, metadata=metadata)\n",
    "with writer.saving(fig, \"diffusion_between.mp4\", 100):\n",
    "    for t in range(len(times)):       \n",
    "        mx1, mx2 = mx_1[t].toarray().flatten(), mx_2[t].toarray().flatten()\n",
    "        ax = plot_measure_graph(t, mx1, mx2, kappas, graph, pos, node_size = 100, edge_width = 1, ax=ax)\n",
    "        plt.title('Diffusion time ' + str(np.round(times[t],2)))\n",
    "        writer.grab_frame()"
   ]
  },
  {
   "cell_type": "markdown",
   "metadata": {},
   "source": [
    "# Plot graph with snapshots of diffusion measures"
   ]
  },
  {
   "cell_type": "code",
   "execution_count": null,
   "metadata": {},
   "outputs": [],
   "source": [
    "plt.figure(figsize=(8,4))\n",
    "plt.subplot(121)\n",
    "\n",
    "t = 26\n",
    "i = 1\n",
    "j = 5\n",
    "\n",
    "mx_1 = mx_comp(graph, times, i)\n",
    "mx_2 = mx_comp(graph, times, j)\n",
    "mx1, mx2 = mx_1[t].toarray().flatten(), mx_2[t].toarray().flatten()\n",
    "\n",
    "plot_measure_graph(t, mx1, mx2, kappas, graph, pos, node_size = 1000, edge_width = 1)\n",
    "nx.draw_networkx_edges(graph, pos = pos, width = 1, alpha=0.3)\n",
    "nx.draw_networkx_edges(graph, pos = pos, edgelist=[(i,j),], edge_color='g',width = 3)\n",
    "ax1.set_title(np.log10(times[t]))\n",
    "\n",
    "\n",
    "plt.subplot(122)\n",
    "\n",
    "t = 26\n",
    "i = 1\n",
    "j = 62\n",
    "\n",
    "mx_1 = mx_comp(graph, times, i)\n",
    "mx_2 = mx_comp(graph, times, j)\n",
    "mx1, mx2 = mx_1[t].toarray().flatten(), mx_2[t].toarray().flatten()\n",
    "\n",
    "plot_measure_graph(t, mx1, mx2, kappas, graph, pos, node_size = 1000, edge_width = 1)\n",
    "nx.draw_networkx_edges(graph, pos = pos, width = 1, alpha=0.3)\n",
    "nx.draw_networkx_edges(graph, pos = pos, edgelist=[(i,j),], edge_color='g',width = 3)\n",
    "\n",
    "ax2.set_title(np.log10(times[t]))\n",
    "\n",
    "#plt.savefig('mxs.svg', bbox_inches='tight')"
   ]
  },
  {
   "cell_type": "markdown",
   "metadata": {},
   "source": [
    "# Plot transport maps"
   ]
  },
  {
   "cell_type": "code",
   "execution_count": null,
   "metadata": {
    "scrolled": false
   },
   "outputs": [],
   "source": [
    "import ot\n",
    "\n",
    "t = 25\n",
    "i = 1\n",
    "j = 5\n",
    "\n",
    "mx_all = []\n",
    "for k in range(nx.number_of_nodes(graph)):\n",
    "    mx_all.append(mx_comp(graph, times, k))\n",
    "\n",
    "mx = mx_all[i][t].toarray().flatten()\n",
    "my = mx_all[j][t].toarray().flatten()\n",
    "\n",
    "#dNxNy = dist[Nx,:][:,Ny].copy(order='C')\n",
    "zeta = ot.emd(mx, my, dist) \n",
    "\n",
    "fig= plt.figure(figsize=(5,5))\n",
    "gs = gridspec.GridSpec(2, 2, height_ratios = [ 0.2, 1], width_ratios = [1,0.2] )\n",
    "gs.update(wspace=0.00)\n",
    "gs.update(hspace=0)\n",
    "ax1 = plt.subplot(gs[1, 0])\n",
    "ax2 = plt.subplot(gs[0, 0])\n",
    "ax3 = plt.subplot(gs[1, 1])\n",
    "\n",
    "plot_transport_plan(zeta, \n",
    "                    mx_all[i][t].toarray().flatten(), \n",
    "                    mx_all[j][t].toarray().flatten(), \n",
    "                    ax1, ax2, ax3)\n",
    "\n",
    "#plt.savefig('zeta_within.svg', bbox_inches='tight')"
   ]
  },
  {
   "cell_type": "code",
   "execution_count": null,
   "metadata": {},
   "outputs": [],
   "source": [
    "import ot\n",
    "\n",
    "t = 25\n",
    "i = 1\n",
    "j = 62\n",
    "\n",
    "mx_all = []\n",
    "for k in range(nx.number_of_nodes(graph)):\n",
    "    mx_all.append(mx_comp(graph, times, k))\n",
    "\n",
    "mx = mx_all[i][t].toarray().flatten()\n",
    "my = mx_all[j][t].toarray().flatten()\n",
    "\n",
    "zeta = ot.emd(mx, my, dist) \n",
    "\n",
    "fig= plt.figure(figsize=(5,5))\n",
    "gs = gridspec.GridSpec(2, 2, height_ratios = [ 0.2, 1], width_ratios = [1,0.2] )\n",
    "gs.update(wspace=0.00)\n",
    "gs.update(hspace=0)\n",
    "ax1 = plt.subplot(gs[1, 0])\n",
    "ax2 = plt.subplot(gs[0, 0])\n",
    "ax3 = plt.subplot(gs[1, 1])\n",
    "\n",
    "plot_transport_plan(zeta, \n",
    "                    mx_all[i][t].toarray().flatten(), \n",
    "                    mx_all[j][t].toarray().flatten(), \n",
    "                    ax1, ax2, ax3)\n",
    "\n",
    "#plt.savefig('zeta_between.svg', bbox_inches='tight')"
   ]
  }
 ],
 "metadata": {
  "kernelspec": {
   "display_name": "Python 3",
   "language": "python",
   "name": "python3"
  },
  "language_info": {
   "codemirror_mode": {
    "name": "ipython",
    "version": 3
   },
   "file_extension": ".py",
   "mimetype": "text/x-python",
   "name": "python",
   "nbconvert_exporter": "python",
   "pygments_lexer": "ipython3",
   "version": "3.9.1"
  }
 },
 "nbformat": 4,
 "nbformat_minor": 2
}
