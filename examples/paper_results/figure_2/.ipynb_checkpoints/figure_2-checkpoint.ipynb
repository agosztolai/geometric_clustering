{
 "cells": [
  {
   "cell_type": "code",
   "execution_count": 3,
   "metadata": {},
   "outputs": [
    {
     "name": "stdout",
     "output_type": "stream",
     "text": [
      "The autoreload extension is already loaded. To reload it, use:\n",
      "  %reload_ext autoreload\n"
     ]
    },
    {
     "ename": "ModuleNotFoundError",
     "evalue": "No module named 'graph_library'",
     "output_type": "error",
     "traceback": [
      "\u001b[0;31m---------------------------------------------------------------------------\u001b[0m",
      "\u001b[0;31mModuleNotFoundError\u001b[0m                       Traceback (most recent call last)",
      "Cell \u001b[0;32mIn[3], line 12\u001b[0m\n\u001b[1;32m     10\u001b[0m \u001b[38;5;28;01mimport\u001b[39;00m \u001b[38;5;21;01mgeometric_clustering\u001b[39;00m \u001b[38;5;28;01mas\u001b[39;00m \u001b[38;5;21;01mgc\u001b[39;00m\n\u001b[1;32m     11\u001b[0m \u001b[38;5;28;01mfrom\u001b[39;00m \u001b[38;5;21;01mgeometric_clustering\u001b[39;00m \u001b[38;5;28;01mimport\u001b[39;00m plotting\n\u001b[0;32m---> 12\u001b[0m \u001b[38;5;28;01mfrom\u001b[39;00m \u001b[38;5;21;01mgraph_library\u001b[39;00m \u001b[38;5;28;01mimport\u001b[39;00m generate_GN, assign_graph_metadata\n\u001b[1;32m     13\u001b[0m \u001b[38;5;28;01mimport\u001b[39;00m \u001b[38;5;21;01mnetworkx\u001b[39;00m \u001b[38;5;28;01mas\u001b[39;00m \u001b[38;5;21;01mnx\u001b[39;00m\n\u001b[1;32m     14\u001b[0m \u001b[38;5;28;01mimport\u001b[39;00m \u001b[38;5;21;01mscipy\u001b[39;00m \u001b[38;5;28;01mas\u001b[39;00m \u001b[38;5;21;01msc\u001b[39;00m\n",
      "\u001b[0;31mModuleNotFoundError\u001b[0m: No module named 'graph_library'"
     ]
    }
   ],
   "source": [
    "%load_ext autoreload\n",
    "%autoreload 2\n",
    "%matplotlib inline\n",
    "%config InlineBackend.print_figure_kwargs = {'dpi':200, 'bbox_inches': 'tight'}\n",
    "from matplotlib_latex_configurations import *\n",
    "rcParams['figure.figsize'] = (one_column_figure_size * golden_ration, one_column_figure_size)\n",
    "\n",
    "import numpy as np\n",
    "import os as os\n",
    "import geometric_clustering as gc\n",
    "from geometric_clustering import plotting\n",
    "from graph_library import generate_GN, assign_graph_metadata\n",
    "import networkx as nx\n",
    "import scipy as sc\n",
    "import pylab as plt\n",
    "from tqdm import tqdm\n",
    "import networkx as nx"
   ]
  },
  {
   "cell_type": "markdown",
   "metadata": {},
   "source": [
    "# SBM diffusion and curvature"
   ]
  },
  {
   "cell_type": "markdown",
   "metadata": {},
   "source": [
    "Dense"
   ]
  },
  {
   "cell_type": "code",
   "execution_count": null,
   "metadata": {},
   "outputs": [],
   "source": [
    "n=100\n",
    "p_in = 0.5\n",
    "p_out = 0.1\n",
    "\n",
    "graph, _ = generate_GN({'l': 2, 'g': int(n/2), 'p_in': p_in, 'p_out': p_out}, seed=1)\n",
    "pos_dense = nx.spring_layout(graph, weight='weight')\n",
    "graph_dense = assign_graph_metadata(graph, pos=pos_dense)\n",
    "times = np.logspace(-2, 2., 25)\n",
    "kappa_dense = gc.compute_curvatures(graph, times,use_spectral_gap=False)\n",
    "\n",
    "#find the node sourcenode corresponding to the min curvature edge\n",
    "edgeid = np.unravel_index(kappa_dense.argmin(), kappa_dense.shape)[1]\n",
    "minedge = list(graph_dense.edges)[edgeid]\n",
    "source_dense = minedge[0]"
   ]
  },
  {
   "cell_type": "markdown",
   "metadata": {},
   "source": [
    "Sparse"
   ]
  },
  {
   "cell_type": "code",
   "execution_count": null,
   "metadata": {},
   "outputs": [],
   "source": [
    "n=100\n",
    "p_in = 8/n\n",
    "p_out = 0.5/n\n",
    "\n",
    "graph, _ = generate_GN({'l': 2, 'g': int(n/2), 'p_in': p_in, 'p_out': p_out}, seed=1)\n",
    "pos_sparse = nx.spring_layout(graph, weight='weight')\n",
    "graph_sparse = assign_graph_metadata(graph, pos=pos_sparse)\n",
    "times = np.logspace(-2, 2., 25)\n",
    "kappa_sparse = gc.compute_curvatures(graph, times, use_spectral_gap=False)\n",
    "\n",
    "#find the node source node corresponding to the min curvature edge\n",
    "edgeid = np.unravel_index(kappa_sparse.argmin(), kappa_sparse.shape)[1]\n",
    "minedge = list(graph_sparse.edges)[edgeid]\n",
    "source_sparse = minedge[0]"
   ]
  },
  {
   "cell_type": "markdown",
   "metadata": {},
   "source": [
    "Null model"
   ]
  },
  {
   "cell_type": "code",
   "execution_count": null,
   "metadata": {},
   "outputs": [],
   "source": [
    "graph, _ = generate_GN({'l': 2, 'g': int(n/2), 'p_in': (p_in+p_out)/2, 'p_out': (p_in+p_out)/2}, seed=0)\n",
    "pos_null = nx.spring_layout(graph, weight='weight')\n",
    "graph_null = assign_graph_metadata(graph, pos=pos_null)\n",
    "kappa_null = gc.compute_curvatures(graph_null, times,use_spectral_gap=False)"
   ]
  },
  {
   "cell_type": "code",
   "execution_count": null,
   "metadata": {},
   "outputs": [],
   "source": [
    "def plot_curvatures(graph, kappa, ax, lambdac):\n",
    "    kappa_within = []\n",
    "    kappa_between = []\n",
    "    for i, e in enumerate(graph.edges):\n",
    "        if e[0]<n/2 and e[1]>=n/2:\n",
    "            kappa_between.append(kappa[:,i])\n",
    "            ax.plot(np.log10(times), kappa[:,i],color=(0.6,0.6,0.6),alpha=0.1, linewidth=1)\n",
    "        else:\n",
    "            kappa_within.append(kappa[:,i])\n",
    "            ax.plot(np.log10(times), kappa[:,i],'C1',alpha=0.1, linewidth=1)\n",
    "        \n",
    "    kappa_within_mean = np.mean(kappa_within, axis=0)\n",
    "    kappa_between_mean = np.mean(kappa_between, axis=0)  \n",
    "    kappa_within_std = np.max(np.std(kappa_within, axis=0))\n",
    "    kappa_between_std = np.max(np.std(kappa_between, axis=0))\n",
    "\n",
    "    ax.plot(np.log10(times),kappa_within_mean, '--', color='k')\n",
    "    ax.plot(np.log10(times),kappa_between_mean, '--', color='k')\n",
    "    ax.axvline(np.log10(1/lambdac), c='C0',lw=3,ls='--')\n",
    "    ax.set_ylim([-1,1])\n",
    "    \n",
    "    return np.abs(kappa_within_mean - kappa_between_mean)/np.sqrt((kappa_within_std**2 + kappa_between_std**2)/2)\n",
    "\n",
    "plt.figure(figsize=(2,5))\n",
    "    \n",
    "ax1 = plt.subplot(311)\n",
    "\n",
    "separation_dense = plot_curvatures(graph_dense, kappa_dense, ax1, 2*0.1/(0.1+0.5))\n",
    "\n",
    "ax2 = plt.subplot(312)\n",
    "\n",
    "separation_sparse = plot_curvatures(graph_sparse, kappa_sparse, ax2, 2*0.5/(0.5+8))\n",
    "\n",
    "ax3 = plt.subplot(313)\n",
    "\n",
    "separation_null = plot_curvatures(graph_null, kappa_null, ax3, 1)\n",
    "    \n",
    "#plt.savefig('sbm_sparse_1.svg')"
   ]
  },
  {
   "cell_type": "markdown",
   "metadata": {},
   "source": [
    "Test for bimodality"
   ]
  },
  {
   "cell_type": "code",
   "execution_count": null,
   "metadata": {},
   "outputs": [],
   "source": [
    "plt.figure(figsize=(2,5))\n",
    "ax1 = plt.subplot(311)\n",
    "ax1.plot(np.log10(times),separation_dense)\n",
    "\n",
    "ax2 = plt.subplot(312)\n",
    "ax2.plot(np.log10(times),separation_sparse)\n",
    "\n",
    "ax3 = plt.subplot(313)\n",
    "ax3.plot(np.log10(times),separation_null)\n",
    "\n",
    "plt.savefig('kappa_separation.svg')"
   ]
  },
  {
   "cell_type": "markdown",
   "metadata": {},
   "source": [
    "Graphs"
   ]
  },
  {
   "cell_type": "code",
   "execution_count": null,
   "metadata": {},
   "outputs": [],
   "source": [
    "k = kappa_dense[17]\n",
    "\n",
    "plotting.plot_graph(\n",
    "    graph_dense,\n",
    "    edge_color=k,\n",
    "    node_size=20,\n",
    "    edge_width=1\n",
    ")\n",
    "    \n",
    "nodes = nx.draw_networkx_nodes(graph_dense, pos = pos_dense, nodelist=[i for i in range(n//2)], node_size = 25, node_color = 'C1')\n",
    "\n",
    "#nodes = nx.draw_networkx_nodes(graph, pos = pos, nodelist=[source], node_size = 100, node_color = 'g')\n",
    "#nodes = nx.draw_networkx_nodes(graph, pos = pos, nodelist=[0], node_size = 100, node_color = 'r')\n",
    "#nodes = nx.draw_networkx_nodes(graph, pos = pos, nodelist=[n-1], node_size = 100, node_color = 'b')\n",
    "\n",
    "plt.savefig('sbm_dense.svg')"
   ]
  },
  {
   "cell_type": "code",
   "execution_count": null,
   "metadata": {},
   "outputs": [],
   "source": [
    "k = kappa_sparse[17]\n",
    "\n",
    "plotting.plot_graph(\n",
    "    graph_sparse,\n",
    "    edge_color=k,\n",
    "    node_size=20,\n",
    "    edge_width=1\n",
    ")\n",
    "    \n",
    "nodes = nx.draw_networkx_nodes(graph_sparse, pos = pos_sparse, nodelist=[i for i in range(n//2)], node_size = 25, node_color = 'C1')\n",
    "\n",
    "plt.savefig('sbm_sparse.svg')"
   ]
  },
  {
   "cell_type": "code",
   "execution_count": null,
   "metadata": {},
   "outputs": [],
   "source": [
    "k = kappa_null[17]\n",
    "\n",
    "plotting.plot_graph(\n",
    "    graph_null,\n",
    "    edge_color=k,\n",
    "    node_size=20,\n",
    "    edge_width=1\n",
    ")\n",
    "    \n",
    "nodes = nx.draw_networkx_nodes(graph_null, pos = pos_null, nodelist=[i for i in range(n//2)], node_size = 25, node_color = 'C1')\n",
    "\n",
    "plt.savefig('sbm_null.svg')"
   ]
  },
  {
   "cell_type": "code",
   "execution_count": null,
   "metadata": {},
   "outputs": [],
   "source": []
  }
 ],
 "metadata": {
  "kernelspec": {
   "display_name": "Python 3 (ipykernel)",
   "language": "python",
   "name": "python3"
  },
  "language_info": {
   "codemirror_mode": {
    "name": "ipython",
    "version": 3
   },
   "file_extension": ".py",
   "mimetype": "text/x-python",
   "name": "python",
   "nbconvert_exporter": "python",
   "pygments_lexer": "ipython3",
   "version": "3.11.3"
  }
 },
 "nbformat": 4,
 "nbformat_minor": 4
}
